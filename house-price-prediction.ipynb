{
 "cells": [
  {
   "cell_type": "code",
   "execution_count": 1,
   "id": "6b29de84",
   "metadata": {
    "_cell_guid": "b1076dfc-b9ad-4769-8c92-a6c4dae69d19",
    "_uuid": "8f2839f25d086af736a60e9eeb907d3b93b6e0e5",
    "execution": {
     "iopub.execute_input": "2022-10-05T17:54:03.165451Z",
     "iopub.status.busy": "2022-10-05T17:54:03.165024Z",
     "iopub.status.idle": "2022-10-05T17:54:03.178516Z",
     "shell.execute_reply": "2022-10-05T17:54:03.176841Z"
    },
    "papermill": {
     "duration": 0.030805,
     "end_time": "2022-10-05T17:54:03.181648",
     "exception": false,
     "start_time": "2022-10-05T17:54:03.150843",
     "status": "completed"
    },
    "tags": []
   },
   "outputs": [
    {
     "name": "stdout",
     "output_type": "stream",
     "text": [
      "/kaggle/input/house-prices-advanced-regression-techniques/sample_submission.csv\n",
      "/kaggle/input/house-prices-advanced-regression-techniques/data_description.txt\n",
      "/kaggle/input/house-prices-advanced-regression-techniques/train.csv\n",
      "/kaggle/input/house-prices-advanced-regression-techniques/test.csv\n"
     ]
    }
   ],
   "source": [
    "# This Python 3 environment comes with many helpful analytics libraries installed\n",
    "# It is defined by the kaggle/python Docker image: https://github.com/kaggle/docker-python\n",
    "# For example, here's several helpful packages to load\n",
    "\n",
    "import numpy as np # linear algebra\n",
    "import pandas as pd # data processing, CSV file I/O (e.g. pd.read_csv)\n",
    "\n",
    "# Input data files are available in the read-only \"../input/\" directory\n",
    "# For example, running this (by clicking run or pressing Shift+Enter) will list all files under the input directory\n",
    "\n",
    "import os\n",
    "for dirname, _, filenames in os.walk('/kaggle/input'):\n",
    "    for filename in filenames:\n",
    "        print(os.path.join(dirname, filename))\n",
    "\n",
    "# You can write up to 20GB to the current directory (/kaggle/working/) that gets preserved as output when you create a version using \"Save & Run All\" \n",
    "# You can also write temporary files to /kaggle/temp/, but they won't be saved outside of the current session"
   ]
  },
  {
   "cell_type": "code",
   "execution_count": 2,
   "id": "36029b89",
   "metadata": {
    "execution": {
     "iopub.execute_input": "2022-10-05T17:54:03.202283Z",
     "iopub.status.busy": "2022-10-05T17:54:03.201934Z",
     "iopub.status.idle": "2022-10-05T17:54:03.272660Z",
     "shell.execute_reply": "2022-10-05T17:54:03.271730Z"
    },
    "papermill": {
     "duration": 0.083557,
     "end_time": "2022-10-05T17:54:03.275245",
     "exception": false,
     "start_time": "2022-10-05T17:54:03.191688",
     "status": "completed"
    },
    "tags": []
   },
   "outputs": [],
   "source": [
    "train = pd.read_csv('../input/house-prices-advanced-regression-techniques/train.csv')\n",
    "test = pd.read_csv('../input/house-prices-advanced-regression-techniques/test.csv')"
   ]
  },
  {
   "cell_type": "code",
   "execution_count": 3,
   "id": "7a1f4db0",
   "metadata": {
    "execution": {
     "iopub.execute_input": "2022-10-05T17:54:03.295463Z",
     "iopub.status.busy": "2022-10-05T17:54:03.294835Z",
     "iopub.status.idle": "2022-10-05T17:54:03.333637Z",
     "shell.execute_reply": "2022-10-05T17:54:03.332458Z"
    },
    "papermill": {
     "duration": 0.051742,
     "end_time": "2022-10-05T17:54:03.336124",
     "exception": false,
     "start_time": "2022-10-05T17:54:03.284382",
     "status": "completed"
    },
    "tags": []
   },
   "outputs": [
    {
     "data": {
      "text/html": [
       "<div>\n",
       "<style scoped>\n",
       "    .dataframe tbody tr th:only-of-type {\n",
       "        vertical-align: middle;\n",
       "    }\n",
       "\n",
       "    .dataframe tbody tr th {\n",
       "        vertical-align: top;\n",
       "    }\n",
       "\n",
       "    .dataframe thead th {\n",
       "        text-align: right;\n",
       "    }\n",
       "</style>\n",
       "<table border=\"1\" class=\"dataframe\">\n",
       "  <thead>\n",
       "    <tr style=\"text-align: right;\">\n",
       "      <th></th>\n",
       "      <th>Id</th>\n",
       "      <th>MSSubClass</th>\n",
       "      <th>MSZoning</th>\n",
       "      <th>LotFrontage</th>\n",
       "      <th>LotArea</th>\n",
       "      <th>Street</th>\n",
       "      <th>Alley</th>\n",
       "      <th>LotShape</th>\n",
       "      <th>LandContour</th>\n",
       "      <th>Utilities</th>\n",
       "      <th>...</th>\n",
       "      <th>PoolArea</th>\n",
       "      <th>PoolQC</th>\n",
       "      <th>Fence</th>\n",
       "      <th>MiscFeature</th>\n",
       "      <th>MiscVal</th>\n",
       "      <th>MoSold</th>\n",
       "      <th>YrSold</th>\n",
       "      <th>SaleType</th>\n",
       "      <th>SaleCondition</th>\n",
       "      <th>SalePrice</th>\n",
       "    </tr>\n",
       "  </thead>\n",
       "  <tbody>\n",
       "    <tr>\n",
       "      <th>0</th>\n",
       "      <td>1</td>\n",
       "      <td>60</td>\n",
       "      <td>RL</td>\n",
       "      <td>65.0</td>\n",
       "      <td>8450</td>\n",
       "      <td>Pave</td>\n",
       "      <td>NaN</td>\n",
       "      <td>Reg</td>\n",
       "      <td>Lvl</td>\n",
       "      <td>AllPub</td>\n",
       "      <td>...</td>\n",
       "      <td>0</td>\n",
       "      <td>NaN</td>\n",
       "      <td>NaN</td>\n",
       "      <td>NaN</td>\n",
       "      <td>0</td>\n",
       "      <td>2</td>\n",
       "      <td>2008</td>\n",
       "      <td>WD</td>\n",
       "      <td>Normal</td>\n",
       "      <td>208500</td>\n",
       "    </tr>\n",
       "    <tr>\n",
       "      <th>1</th>\n",
       "      <td>2</td>\n",
       "      <td>20</td>\n",
       "      <td>RL</td>\n",
       "      <td>80.0</td>\n",
       "      <td>9600</td>\n",
       "      <td>Pave</td>\n",
       "      <td>NaN</td>\n",
       "      <td>Reg</td>\n",
       "      <td>Lvl</td>\n",
       "      <td>AllPub</td>\n",
       "      <td>...</td>\n",
       "      <td>0</td>\n",
       "      <td>NaN</td>\n",
       "      <td>NaN</td>\n",
       "      <td>NaN</td>\n",
       "      <td>0</td>\n",
       "      <td>5</td>\n",
       "      <td>2007</td>\n",
       "      <td>WD</td>\n",
       "      <td>Normal</td>\n",
       "      <td>181500</td>\n",
       "    </tr>\n",
       "    <tr>\n",
       "      <th>2</th>\n",
       "      <td>3</td>\n",
       "      <td>60</td>\n",
       "      <td>RL</td>\n",
       "      <td>68.0</td>\n",
       "      <td>11250</td>\n",
       "      <td>Pave</td>\n",
       "      <td>NaN</td>\n",
       "      <td>IR1</td>\n",
       "      <td>Lvl</td>\n",
       "      <td>AllPub</td>\n",
       "      <td>...</td>\n",
       "      <td>0</td>\n",
       "      <td>NaN</td>\n",
       "      <td>NaN</td>\n",
       "      <td>NaN</td>\n",
       "      <td>0</td>\n",
       "      <td>9</td>\n",
       "      <td>2008</td>\n",
       "      <td>WD</td>\n",
       "      <td>Normal</td>\n",
       "      <td>223500</td>\n",
       "    </tr>\n",
       "    <tr>\n",
       "      <th>3</th>\n",
       "      <td>4</td>\n",
       "      <td>70</td>\n",
       "      <td>RL</td>\n",
       "      <td>60.0</td>\n",
       "      <td>9550</td>\n",
       "      <td>Pave</td>\n",
       "      <td>NaN</td>\n",
       "      <td>IR1</td>\n",
       "      <td>Lvl</td>\n",
       "      <td>AllPub</td>\n",
       "      <td>...</td>\n",
       "      <td>0</td>\n",
       "      <td>NaN</td>\n",
       "      <td>NaN</td>\n",
       "      <td>NaN</td>\n",
       "      <td>0</td>\n",
       "      <td>2</td>\n",
       "      <td>2006</td>\n",
       "      <td>WD</td>\n",
       "      <td>Abnorml</td>\n",
       "      <td>140000</td>\n",
       "    </tr>\n",
       "    <tr>\n",
       "      <th>4</th>\n",
       "      <td>5</td>\n",
       "      <td>60</td>\n",
       "      <td>RL</td>\n",
       "      <td>84.0</td>\n",
       "      <td>14260</td>\n",
       "      <td>Pave</td>\n",
       "      <td>NaN</td>\n",
       "      <td>IR1</td>\n",
       "      <td>Lvl</td>\n",
       "      <td>AllPub</td>\n",
       "      <td>...</td>\n",
       "      <td>0</td>\n",
       "      <td>NaN</td>\n",
       "      <td>NaN</td>\n",
       "      <td>NaN</td>\n",
       "      <td>0</td>\n",
       "      <td>12</td>\n",
       "      <td>2008</td>\n",
       "      <td>WD</td>\n",
       "      <td>Normal</td>\n",
       "      <td>250000</td>\n",
       "    </tr>\n",
       "  </tbody>\n",
       "</table>\n",
       "<p>5 rows × 81 columns</p>\n",
       "</div>"
      ],
      "text/plain": [
       "   Id  MSSubClass MSZoning  LotFrontage  LotArea Street Alley LotShape  \\\n",
       "0   1          60       RL         65.0     8450   Pave   NaN      Reg   \n",
       "1   2          20       RL         80.0     9600   Pave   NaN      Reg   \n",
       "2   3          60       RL         68.0    11250   Pave   NaN      IR1   \n",
       "3   4          70       RL         60.0     9550   Pave   NaN      IR1   \n",
       "4   5          60       RL         84.0    14260   Pave   NaN      IR1   \n",
       "\n",
       "  LandContour Utilities  ... PoolArea PoolQC Fence MiscFeature MiscVal MoSold  \\\n",
       "0         Lvl    AllPub  ...        0    NaN   NaN         NaN       0      2   \n",
       "1         Lvl    AllPub  ...        0    NaN   NaN         NaN       0      5   \n",
       "2         Lvl    AllPub  ...        0    NaN   NaN         NaN       0      9   \n",
       "3         Lvl    AllPub  ...        0    NaN   NaN         NaN       0      2   \n",
       "4         Lvl    AllPub  ...        0    NaN   NaN         NaN       0     12   \n",
       "\n",
       "  YrSold  SaleType  SaleCondition  SalePrice  \n",
       "0   2008        WD         Normal     208500  \n",
       "1   2007        WD         Normal     181500  \n",
       "2   2008        WD         Normal     223500  \n",
       "3   2006        WD        Abnorml     140000  \n",
       "4   2008        WD         Normal     250000  \n",
       "\n",
       "[5 rows x 81 columns]"
      ]
     },
     "execution_count": 3,
     "metadata": {},
     "output_type": "execute_result"
    }
   ],
   "source": [
    "train.head()"
   ]
  },
  {
   "cell_type": "code",
   "execution_count": 4,
   "id": "90687f44",
   "metadata": {
    "execution": {
     "iopub.execute_input": "2022-10-05T17:54:03.356440Z",
     "iopub.status.busy": "2022-10-05T17:54:03.356085Z",
     "iopub.status.idle": "2022-10-05T17:54:03.379114Z",
     "shell.execute_reply": "2022-10-05T17:54:03.378336Z"
    },
    "papermill": {
     "duration": 0.03551,
     "end_time": "2022-10-05T17:54:03.381088",
     "exception": false,
     "start_time": "2022-10-05T17:54:03.345578",
     "status": "completed"
    },
    "tags": []
   },
   "outputs": [
    {
     "data": {
      "text/html": [
       "<div>\n",
       "<style scoped>\n",
       "    .dataframe tbody tr th:only-of-type {\n",
       "        vertical-align: middle;\n",
       "    }\n",
       "\n",
       "    .dataframe tbody tr th {\n",
       "        vertical-align: top;\n",
       "    }\n",
       "\n",
       "    .dataframe thead th {\n",
       "        text-align: right;\n",
       "    }\n",
       "</style>\n",
       "<table border=\"1\" class=\"dataframe\">\n",
       "  <thead>\n",
       "    <tr style=\"text-align: right;\">\n",
       "      <th></th>\n",
       "      <th>Id</th>\n",
       "      <th>MSSubClass</th>\n",
       "      <th>MSZoning</th>\n",
       "      <th>LotFrontage</th>\n",
       "      <th>LotArea</th>\n",
       "      <th>Street</th>\n",
       "      <th>Alley</th>\n",
       "      <th>LotShape</th>\n",
       "      <th>LandContour</th>\n",
       "      <th>Utilities</th>\n",
       "      <th>...</th>\n",
       "      <th>ScreenPorch</th>\n",
       "      <th>PoolArea</th>\n",
       "      <th>PoolQC</th>\n",
       "      <th>Fence</th>\n",
       "      <th>MiscFeature</th>\n",
       "      <th>MiscVal</th>\n",
       "      <th>MoSold</th>\n",
       "      <th>YrSold</th>\n",
       "      <th>SaleType</th>\n",
       "      <th>SaleCondition</th>\n",
       "    </tr>\n",
       "  </thead>\n",
       "  <tbody>\n",
       "    <tr>\n",
       "      <th>0</th>\n",
       "      <td>1461</td>\n",
       "      <td>20</td>\n",
       "      <td>RH</td>\n",
       "      <td>80.0</td>\n",
       "      <td>11622</td>\n",
       "      <td>Pave</td>\n",
       "      <td>NaN</td>\n",
       "      <td>Reg</td>\n",
       "      <td>Lvl</td>\n",
       "      <td>AllPub</td>\n",
       "      <td>...</td>\n",
       "      <td>120</td>\n",
       "      <td>0</td>\n",
       "      <td>NaN</td>\n",
       "      <td>MnPrv</td>\n",
       "      <td>NaN</td>\n",
       "      <td>0</td>\n",
       "      <td>6</td>\n",
       "      <td>2010</td>\n",
       "      <td>WD</td>\n",
       "      <td>Normal</td>\n",
       "    </tr>\n",
       "    <tr>\n",
       "      <th>1</th>\n",
       "      <td>1462</td>\n",
       "      <td>20</td>\n",
       "      <td>RL</td>\n",
       "      <td>81.0</td>\n",
       "      <td>14267</td>\n",
       "      <td>Pave</td>\n",
       "      <td>NaN</td>\n",
       "      <td>IR1</td>\n",
       "      <td>Lvl</td>\n",
       "      <td>AllPub</td>\n",
       "      <td>...</td>\n",
       "      <td>0</td>\n",
       "      <td>0</td>\n",
       "      <td>NaN</td>\n",
       "      <td>NaN</td>\n",
       "      <td>Gar2</td>\n",
       "      <td>12500</td>\n",
       "      <td>6</td>\n",
       "      <td>2010</td>\n",
       "      <td>WD</td>\n",
       "      <td>Normal</td>\n",
       "    </tr>\n",
       "    <tr>\n",
       "      <th>2</th>\n",
       "      <td>1463</td>\n",
       "      <td>60</td>\n",
       "      <td>RL</td>\n",
       "      <td>74.0</td>\n",
       "      <td>13830</td>\n",
       "      <td>Pave</td>\n",
       "      <td>NaN</td>\n",
       "      <td>IR1</td>\n",
       "      <td>Lvl</td>\n",
       "      <td>AllPub</td>\n",
       "      <td>...</td>\n",
       "      <td>0</td>\n",
       "      <td>0</td>\n",
       "      <td>NaN</td>\n",
       "      <td>MnPrv</td>\n",
       "      <td>NaN</td>\n",
       "      <td>0</td>\n",
       "      <td>3</td>\n",
       "      <td>2010</td>\n",
       "      <td>WD</td>\n",
       "      <td>Normal</td>\n",
       "    </tr>\n",
       "    <tr>\n",
       "      <th>3</th>\n",
       "      <td>1464</td>\n",
       "      <td>60</td>\n",
       "      <td>RL</td>\n",
       "      <td>78.0</td>\n",
       "      <td>9978</td>\n",
       "      <td>Pave</td>\n",
       "      <td>NaN</td>\n",
       "      <td>IR1</td>\n",
       "      <td>Lvl</td>\n",
       "      <td>AllPub</td>\n",
       "      <td>...</td>\n",
       "      <td>0</td>\n",
       "      <td>0</td>\n",
       "      <td>NaN</td>\n",
       "      <td>NaN</td>\n",
       "      <td>NaN</td>\n",
       "      <td>0</td>\n",
       "      <td>6</td>\n",
       "      <td>2010</td>\n",
       "      <td>WD</td>\n",
       "      <td>Normal</td>\n",
       "    </tr>\n",
       "    <tr>\n",
       "      <th>4</th>\n",
       "      <td>1465</td>\n",
       "      <td>120</td>\n",
       "      <td>RL</td>\n",
       "      <td>43.0</td>\n",
       "      <td>5005</td>\n",
       "      <td>Pave</td>\n",
       "      <td>NaN</td>\n",
       "      <td>IR1</td>\n",
       "      <td>HLS</td>\n",
       "      <td>AllPub</td>\n",
       "      <td>...</td>\n",
       "      <td>144</td>\n",
       "      <td>0</td>\n",
       "      <td>NaN</td>\n",
       "      <td>NaN</td>\n",
       "      <td>NaN</td>\n",
       "      <td>0</td>\n",
       "      <td>1</td>\n",
       "      <td>2010</td>\n",
       "      <td>WD</td>\n",
       "      <td>Normal</td>\n",
       "    </tr>\n",
       "  </tbody>\n",
       "</table>\n",
       "<p>5 rows × 80 columns</p>\n",
       "</div>"
      ],
      "text/plain": [
       "     Id  MSSubClass MSZoning  LotFrontage  LotArea Street Alley LotShape  \\\n",
       "0  1461          20       RH         80.0    11622   Pave   NaN      Reg   \n",
       "1  1462          20       RL         81.0    14267   Pave   NaN      IR1   \n",
       "2  1463          60       RL         74.0    13830   Pave   NaN      IR1   \n",
       "3  1464          60       RL         78.0     9978   Pave   NaN      IR1   \n",
       "4  1465         120       RL         43.0     5005   Pave   NaN      IR1   \n",
       "\n",
       "  LandContour Utilities  ... ScreenPorch PoolArea PoolQC  Fence MiscFeature  \\\n",
       "0         Lvl    AllPub  ...         120        0    NaN  MnPrv         NaN   \n",
       "1         Lvl    AllPub  ...           0        0    NaN    NaN        Gar2   \n",
       "2         Lvl    AllPub  ...           0        0    NaN  MnPrv         NaN   \n",
       "3         Lvl    AllPub  ...           0        0    NaN    NaN         NaN   \n",
       "4         HLS    AllPub  ...         144        0    NaN    NaN         NaN   \n",
       "\n",
       "  MiscVal MoSold  YrSold  SaleType  SaleCondition  \n",
       "0       0      6    2010        WD         Normal  \n",
       "1   12500      6    2010        WD         Normal  \n",
       "2       0      3    2010        WD         Normal  \n",
       "3       0      6    2010        WD         Normal  \n",
       "4       0      1    2010        WD         Normal  \n",
       "\n",
       "[5 rows x 80 columns]"
      ]
     },
     "execution_count": 4,
     "metadata": {},
     "output_type": "execute_result"
    }
   ],
   "source": [
    "test.head()"
   ]
  },
  {
   "cell_type": "code",
   "execution_count": 5,
   "id": "707cb4b4",
   "metadata": {
    "execution": {
     "iopub.execute_input": "2022-10-05T17:54:03.403795Z",
     "iopub.status.busy": "2022-10-05T17:54:03.403155Z",
     "iopub.status.idle": "2022-10-05T17:54:03.408867Z",
     "shell.execute_reply": "2022-10-05T17:54:03.408104Z"
    },
    "papermill": {
     "duration": 0.020145,
     "end_time": "2022-10-05T17:54:03.410986",
     "exception": false,
     "start_time": "2022-10-05T17:54:03.390841",
     "status": "completed"
    },
    "tags": []
   },
   "outputs": [
    {
     "data": {
      "text/plain": [
       "((1460, 81), (1459, 80))"
      ]
     },
     "execution_count": 5,
     "metadata": {},
     "output_type": "execute_result"
    }
   ],
   "source": [
    "train.shape,test.shape"
   ]
  },
  {
   "cell_type": "code",
   "execution_count": 6,
   "id": "8ffa27cd",
   "metadata": {
    "execution": {
     "iopub.execute_input": "2022-10-05T17:54:03.432805Z",
     "iopub.status.busy": "2022-10-05T17:54:03.432152Z",
     "iopub.status.idle": "2022-10-05T17:54:03.443967Z",
     "shell.execute_reply": "2022-10-05T17:54:03.443017Z"
    },
    "papermill": {
     "duration": 0.025116,
     "end_time": "2022-10-05T17:54:03.445997",
     "exception": false,
     "start_time": "2022-10-05T17:54:03.420881",
     "status": "completed"
    },
    "tags": []
   },
   "outputs": [
    {
     "data": {
      "text/plain": [
       "PoolQC          1453\n",
       "MiscFeature     1406\n",
       "Alley           1369\n",
       "Fence           1179\n",
       "FireplaceQu      690\n",
       "LotFrontage      259\n",
       "GarageYrBlt       81\n",
       "GarageCond        81\n",
       "GarageType        81\n",
       "GarageFinish      81\n",
       "GarageQual        81\n",
       "BsmtFinType2      38\n",
       "BsmtExposure      38\n",
       "BsmtQual          37\n",
       "BsmtCond          37\n",
       "BsmtFinType1      37\n",
       "MasVnrArea         8\n",
       "MasVnrType         8\n",
       "Electrical         1\n",
       "dtype: int64"
      ]
     },
     "execution_count": 6,
     "metadata": {},
     "output_type": "execute_result"
    }
   ],
   "source": [
    "null=train.isnull().sum().sort_values(ascending=False)\n",
    "null[null>0]"
   ]
  },
  {
   "cell_type": "code",
   "execution_count": 7,
   "id": "3cb9178d",
   "metadata": {
    "execution": {
     "iopub.execute_input": "2022-10-05T17:54:03.467882Z",
     "iopub.status.busy": "2022-10-05T17:54:03.467228Z",
     "iopub.status.idle": "2022-10-05T17:54:03.484531Z",
     "shell.execute_reply": "2022-10-05T17:54:03.483777Z"
    },
    "papermill": {
     "duration": 0.030627,
     "end_time": "2022-10-05T17:54:03.486639",
     "exception": false,
     "start_time": "2022-10-05T17:54:03.456012",
     "status": "completed"
    },
    "tags": []
   },
   "outputs": [
    {
     "data": {
      "text/html": [
       "<div>\n",
       "<style scoped>\n",
       "    .dataframe tbody tr th:only-of-type {\n",
       "        vertical-align: middle;\n",
       "    }\n",
       "\n",
       "    .dataframe tbody tr th {\n",
       "        vertical-align: top;\n",
       "    }\n",
       "\n",
       "    .dataframe thead th {\n",
       "        text-align: right;\n",
       "    }\n",
       "</style>\n",
       "<table border=\"1\" class=\"dataframe\">\n",
       "  <thead>\n",
       "    <tr style=\"text-align: right;\">\n",
       "      <th></th>\n",
       "      <th>Missing</th>\n",
       "      <th>Missing%</th>\n",
       "    </tr>\n",
       "  </thead>\n",
       "  <tbody>\n",
       "    <tr>\n",
       "      <th>PoolQC</th>\n",
       "      <td>1453</td>\n",
       "      <td>99.52</td>\n",
       "    </tr>\n",
       "    <tr>\n",
       "      <th>MiscFeature</th>\n",
       "      <td>1406</td>\n",
       "      <td>96.30</td>\n",
       "    </tr>\n",
       "    <tr>\n",
       "      <th>Alley</th>\n",
       "      <td>1369</td>\n",
       "      <td>93.77</td>\n",
       "    </tr>\n",
       "    <tr>\n",
       "      <th>Fence</th>\n",
       "      <td>1179</td>\n",
       "      <td>80.75</td>\n",
       "    </tr>\n",
       "    <tr>\n",
       "      <th>FireplaceQu</th>\n",
       "      <td>690</td>\n",
       "      <td>47.26</td>\n",
       "    </tr>\n",
       "    <tr>\n",
       "      <th>LotFrontage</th>\n",
       "      <td>259</td>\n",
       "      <td>17.74</td>\n",
       "    </tr>\n",
       "    <tr>\n",
       "      <th>GarageYrBlt</th>\n",
       "      <td>81</td>\n",
       "      <td>5.55</td>\n",
       "    </tr>\n",
       "    <tr>\n",
       "      <th>GarageCond</th>\n",
       "      <td>81</td>\n",
       "      <td>5.55</td>\n",
       "    </tr>\n",
       "    <tr>\n",
       "      <th>GarageType</th>\n",
       "      <td>81</td>\n",
       "      <td>5.55</td>\n",
       "    </tr>\n",
       "    <tr>\n",
       "      <th>GarageFinish</th>\n",
       "      <td>81</td>\n",
       "      <td>5.55</td>\n",
       "    </tr>\n",
       "    <tr>\n",
       "      <th>GarageQual</th>\n",
       "      <td>81</td>\n",
       "      <td>5.55</td>\n",
       "    </tr>\n",
       "    <tr>\n",
       "      <th>BsmtFinType2</th>\n",
       "      <td>38</td>\n",
       "      <td>2.60</td>\n",
       "    </tr>\n",
       "    <tr>\n",
       "      <th>BsmtExposure</th>\n",
       "      <td>38</td>\n",
       "      <td>2.60</td>\n",
       "    </tr>\n",
       "    <tr>\n",
       "      <th>BsmtQual</th>\n",
       "      <td>37</td>\n",
       "      <td>2.53</td>\n",
       "    </tr>\n",
       "    <tr>\n",
       "      <th>BsmtCond</th>\n",
       "      <td>37</td>\n",
       "      <td>2.53</td>\n",
       "    </tr>\n",
       "    <tr>\n",
       "      <th>BsmtFinType1</th>\n",
       "      <td>37</td>\n",
       "      <td>2.53</td>\n",
       "    </tr>\n",
       "    <tr>\n",
       "      <th>MasVnrArea</th>\n",
       "      <td>8</td>\n",
       "      <td>0.55</td>\n",
       "    </tr>\n",
       "    <tr>\n",
       "      <th>MasVnrType</th>\n",
       "      <td>8</td>\n",
       "      <td>0.55</td>\n",
       "    </tr>\n",
       "    <tr>\n",
       "      <th>Electrical</th>\n",
       "      <td>1</td>\n",
       "      <td>0.07</td>\n",
       "    </tr>\n",
       "  </tbody>\n",
       "</table>\n",
       "</div>"
      ],
      "text/plain": [
       "              Missing  Missing%\n",
       "PoolQC           1453     99.52\n",
       "MiscFeature      1406     96.30\n",
       "Alley            1369     93.77\n",
       "Fence            1179     80.75\n",
       "FireplaceQu       690     47.26\n",
       "LotFrontage       259     17.74\n",
       "GarageYrBlt        81      5.55\n",
       "GarageCond         81      5.55\n",
       "GarageType         81      5.55\n",
       "GarageFinish       81      5.55\n",
       "GarageQual         81      5.55\n",
       "BsmtFinType2       38      2.60\n",
       "BsmtExposure       38      2.60\n",
       "BsmtQual           37      2.53\n",
       "BsmtCond           37      2.53\n",
       "BsmtFinType1       37      2.53\n",
       "MasVnrArea          8      0.55\n",
       "MasVnrType          8      0.55\n",
       "Electrical          1      0.07"
      ]
     },
     "execution_count": 7,
     "metadata": {},
     "output_type": "execute_result"
    }
   ],
   "source": [
    "total_rows = 1460\n",
    "miss_per=pd.DataFrame(null[null>0])\n",
    "miss_per.columns=['Missing']\n",
    "miss_per['Missing%']=((miss_per['Missing']/total_rows)*100).round(2)\n",
    "miss_per"
   ]
  },
  {
   "cell_type": "code",
   "execution_count": 8,
   "id": "53b46170",
   "metadata": {
    "execution": {
     "iopub.execute_input": "2022-10-05T17:54:03.509465Z",
     "iopub.status.busy": "2022-10-05T17:54:03.508863Z",
     "iopub.status.idle": "2022-10-05T17:54:03.520602Z",
     "shell.execute_reply": "2022-10-05T17:54:03.519865Z"
    },
    "papermill": {
     "duration": 0.025522,
     "end_time": "2022-10-05T17:54:03.522601",
     "exception": false,
     "start_time": "2022-10-05T17:54:03.497079",
     "status": "completed"
    },
    "tags": []
   },
   "outputs": [
    {
     "data": {
      "text/plain": [
       "PoolQC          1456\n",
       "MiscFeature     1408\n",
       "Alley           1352\n",
       "Fence           1169\n",
       "FireplaceQu      730\n",
       "LotFrontage      227\n",
       "GarageYrBlt       78\n",
       "GarageQual        78\n",
       "GarageFinish      78\n",
       "GarageCond        78\n",
       "GarageType        76\n",
       "BsmtCond          45\n",
       "BsmtQual          44\n",
       "BsmtExposure      44\n",
       "BsmtFinType1      42\n",
       "BsmtFinType2      42\n",
       "MasVnrType        16\n",
       "MasVnrArea        15\n",
       "MSZoning           4\n",
       "BsmtHalfBath       2\n",
       "Utilities          2\n",
       "Functional         2\n",
       "BsmtFullBath       2\n",
       "BsmtFinSF1         1\n",
       "BsmtFinSF2         1\n",
       "BsmtUnfSF          1\n",
       "KitchenQual        1\n",
       "TotalBsmtSF        1\n",
       "Exterior2nd        1\n",
       "GarageCars         1\n",
       "Exterior1st        1\n",
       "GarageArea         1\n",
       "SaleType           1\n",
       "dtype: int64"
      ]
     },
     "execution_count": 8,
     "metadata": {},
     "output_type": "execute_result"
    }
   ],
   "source": [
    "null2=test.isnull().sum().sort_values(ascending=False)\n",
    "null2[null2>0]"
   ]
  },
  {
   "cell_type": "code",
   "execution_count": 9,
   "id": "f662cf33",
   "metadata": {
    "execution": {
     "iopub.execute_input": "2022-10-05T17:54:03.546132Z",
     "iopub.status.busy": "2022-10-05T17:54:03.545551Z",
     "iopub.status.idle": "2022-10-05T17:54:03.561149Z",
     "shell.execute_reply": "2022-10-05T17:54:03.560184Z"
    },
    "papermill": {
     "duration": 0.030277,
     "end_time": "2022-10-05T17:54:03.563227",
     "exception": false,
     "start_time": "2022-10-05T17:54:03.532950",
     "status": "completed"
    },
    "tags": []
   },
   "outputs": [
    {
     "data": {
      "text/html": [
       "<div>\n",
       "<style scoped>\n",
       "    .dataframe tbody tr th:only-of-type {\n",
       "        vertical-align: middle;\n",
       "    }\n",
       "\n",
       "    .dataframe tbody tr th {\n",
       "        vertical-align: top;\n",
       "    }\n",
       "\n",
       "    .dataframe thead th {\n",
       "        text-align: right;\n",
       "    }\n",
       "</style>\n",
       "<table border=\"1\" class=\"dataframe\">\n",
       "  <thead>\n",
       "    <tr style=\"text-align: right;\">\n",
       "      <th></th>\n",
       "      <th>Missing</th>\n",
       "      <th>Missing%</th>\n",
       "    </tr>\n",
       "  </thead>\n",
       "  <tbody>\n",
       "    <tr>\n",
       "      <th>PoolQC</th>\n",
       "      <td>1456</td>\n",
       "      <td>99.73</td>\n",
       "    </tr>\n",
       "    <tr>\n",
       "      <th>MiscFeature</th>\n",
       "      <td>1408</td>\n",
       "      <td>96.44</td>\n",
       "    </tr>\n",
       "    <tr>\n",
       "      <th>Alley</th>\n",
       "      <td>1352</td>\n",
       "      <td>92.60</td>\n",
       "    </tr>\n",
       "    <tr>\n",
       "      <th>Fence</th>\n",
       "      <td>1169</td>\n",
       "      <td>80.07</td>\n",
       "    </tr>\n",
       "    <tr>\n",
       "      <th>FireplaceQu</th>\n",
       "      <td>730</td>\n",
       "      <td>50.00</td>\n",
       "    </tr>\n",
       "    <tr>\n",
       "      <th>LotFrontage</th>\n",
       "      <td>227</td>\n",
       "      <td>15.55</td>\n",
       "    </tr>\n",
       "    <tr>\n",
       "      <th>GarageYrBlt</th>\n",
       "      <td>78</td>\n",
       "      <td>5.34</td>\n",
       "    </tr>\n",
       "    <tr>\n",
       "      <th>GarageQual</th>\n",
       "      <td>78</td>\n",
       "      <td>5.34</td>\n",
       "    </tr>\n",
       "    <tr>\n",
       "      <th>GarageFinish</th>\n",
       "      <td>78</td>\n",
       "      <td>5.34</td>\n",
       "    </tr>\n",
       "    <tr>\n",
       "      <th>GarageCond</th>\n",
       "      <td>78</td>\n",
       "      <td>5.34</td>\n",
       "    </tr>\n",
       "    <tr>\n",
       "      <th>GarageType</th>\n",
       "      <td>76</td>\n",
       "      <td>5.21</td>\n",
       "    </tr>\n",
       "    <tr>\n",
       "      <th>BsmtCond</th>\n",
       "      <td>45</td>\n",
       "      <td>3.08</td>\n",
       "    </tr>\n",
       "    <tr>\n",
       "      <th>BsmtQual</th>\n",
       "      <td>44</td>\n",
       "      <td>3.01</td>\n",
       "    </tr>\n",
       "    <tr>\n",
       "      <th>BsmtExposure</th>\n",
       "      <td>44</td>\n",
       "      <td>3.01</td>\n",
       "    </tr>\n",
       "    <tr>\n",
       "      <th>BsmtFinType1</th>\n",
       "      <td>42</td>\n",
       "      <td>2.88</td>\n",
       "    </tr>\n",
       "    <tr>\n",
       "      <th>BsmtFinType2</th>\n",
       "      <td>42</td>\n",
       "      <td>2.88</td>\n",
       "    </tr>\n",
       "    <tr>\n",
       "      <th>MasVnrType</th>\n",
       "      <td>16</td>\n",
       "      <td>1.10</td>\n",
       "    </tr>\n",
       "    <tr>\n",
       "      <th>MasVnrArea</th>\n",
       "      <td>15</td>\n",
       "      <td>1.03</td>\n",
       "    </tr>\n",
       "    <tr>\n",
       "      <th>MSZoning</th>\n",
       "      <td>4</td>\n",
       "      <td>0.27</td>\n",
       "    </tr>\n",
       "    <tr>\n",
       "      <th>BsmtHalfBath</th>\n",
       "      <td>2</td>\n",
       "      <td>0.14</td>\n",
       "    </tr>\n",
       "    <tr>\n",
       "      <th>Utilities</th>\n",
       "      <td>2</td>\n",
       "      <td>0.14</td>\n",
       "    </tr>\n",
       "    <tr>\n",
       "      <th>Functional</th>\n",
       "      <td>2</td>\n",
       "      <td>0.14</td>\n",
       "    </tr>\n",
       "    <tr>\n",
       "      <th>BsmtFullBath</th>\n",
       "      <td>2</td>\n",
       "      <td>0.14</td>\n",
       "    </tr>\n",
       "    <tr>\n",
       "      <th>BsmtFinSF1</th>\n",
       "      <td>1</td>\n",
       "      <td>0.07</td>\n",
       "    </tr>\n",
       "    <tr>\n",
       "      <th>BsmtFinSF2</th>\n",
       "      <td>1</td>\n",
       "      <td>0.07</td>\n",
       "    </tr>\n",
       "    <tr>\n",
       "      <th>BsmtUnfSF</th>\n",
       "      <td>1</td>\n",
       "      <td>0.07</td>\n",
       "    </tr>\n",
       "    <tr>\n",
       "      <th>KitchenQual</th>\n",
       "      <td>1</td>\n",
       "      <td>0.07</td>\n",
       "    </tr>\n",
       "    <tr>\n",
       "      <th>TotalBsmtSF</th>\n",
       "      <td>1</td>\n",
       "      <td>0.07</td>\n",
       "    </tr>\n",
       "    <tr>\n",
       "      <th>Exterior2nd</th>\n",
       "      <td>1</td>\n",
       "      <td>0.07</td>\n",
       "    </tr>\n",
       "    <tr>\n",
       "      <th>GarageCars</th>\n",
       "      <td>1</td>\n",
       "      <td>0.07</td>\n",
       "    </tr>\n",
       "    <tr>\n",
       "      <th>Exterior1st</th>\n",
       "      <td>1</td>\n",
       "      <td>0.07</td>\n",
       "    </tr>\n",
       "    <tr>\n",
       "      <th>GarageArea</th>\n",
       "      <td>1</td>\n",
       "      <td>0.07</td>\n",
       "    </tr>\n",
       "    <tr>\n",
       "      <th>SaleType</th>\n",
       "      <td>1</td>\n",
       "      <td>0.07</td>\n",
       "    </tr>\n",
       "  </tbody>\n",
       "</table>\n",
       "</div>"
      ],
      "text/plain": [
       "              Missing  Missing%\n",
       "PoolQC           1456     99.73\n",
       "MiscFeature      1408     96.44\n",
       "Alley            1352     92.60\n",
       "Fence            1169     80.07\n",
       "FireplaceQu       730     50.00\n",
       "LotFrontage       227     15.55\n",
       "GarageYrBlt        78      5.34\n",
       "GarageQual         78      5.34\n",
       "GarageFinish       78      5.34\n",
       "GarageCond         78      5.34\n",
       "GarageType         76      5.21\n",
       "BsmtCond           45      3.08\n",
       "BsmtQual           44      3.01\n",
       "BsmtExposure       44      3.01\n",
       "BsmtFinType1       42      2.88\n",
       "BsmtFinType2       42      2.88\n",
       "MasVnrType         16      1.10\n",
       "MasVnrArea         15      1.03\n",
       "MSZoning            4      0.27\n",
       "BsmtHalfBath        2      0.14\n",
       "Utilities           2      0.14\n",
       "Functional          2      0.14\n",
       "BsmtFullBath        2      0.14\n",
       "BsmtFinSF1          1      0.07\n",
       "BsmtFinSF2          1      0.07\n",
       "BsmtUnfSF           1      0.07\n",
       "KitchenQual         1      0.07\n",
       "TotalBsmtSF         1      0.07\n",
       "Exterior2nd         1      0.07\n",
       "GarageCars          1      0.07\n",
       "Exterior1st         1      0.07\n",
       "GarageArea          1      0.07\n",
       "SaleType            1      0.07"
      ]
     },
     "execution_count": 9,
     "metadata": {},
     "output_type": "execute_result"
    }
   ],
   "source": [
    "total_rows=1460\n",
    "miss_per=pd.DataFrame(null2[null2>0])\n",
    "miss_per.columns=['Missing']\n",
    "miss_per['Missing%']=((miss_per['Missing']/total_rows)*100).round(2)\n",
    "miss_per"
   ]
  },
  {
   "cell_type": "code",
   "execution_count": 10,
   "id": "f00dabe3",
   "metadata": {
    "execution": {
     "iopub.execute_input": "2022-10-05T17:54:03.586876Z",
     "iopub.status.busy": "2022-10-05T17:54:03.586454Z",
     "iopub.status.idle": "2022-10-05T17:54:03.597207Z",
     "shell.execute_reply": "2022-10-05T17:54:03.596109Z"
    },
    "papermill": {
     "duration": 0.02517,
     "end_time": "2022-10-05T17:54:03.599618",
     "exception": false,
     "start_time": "2022-10-05T17:54:03.574448",
     "status": "completed"
    },
    "tags": []
   },
   "outputs": [],
   "source": [
    "train.drop(columns=['PoolQC','MiscFeature','Alley','Fence','FireplaceQu'],inplace=True)\n",
    "test.drop(columns=['PoolQC','MiscFeature','Alley','Fence','FireplaceQu'],inplace=True)"
   ]
  },
  {
   "cell_type": "code",
   "execution_count": 11,
   "id": "12644b24",
   "metadata": {
    "execution": {
     "iopub.execute_input": "2022-10-05T17:54:03.622918Z",
     "iopub.status.busy": "2022-10-05T17:54:03.622510Z",
     "iopub.status.idle": "2022-10-05T17:54:03.629435Z",
     "shell.execute_reply": "2022-10-05T17:54:03.628396Z"
    },
    "papermill": {
     "duration": 0.021112,
     "end_time": "2022-10-05T17:54:03.631706",
     "exception": false,
     "start_time": "2022-10-05T17:54:03.610594",
     "status": "completed"
    },
    "tags": []
   },
   "outputs": [
    {
     "data": {
      "text/plain": [
       "((1460, 76), (1459, 75))"
      ]
     },
     "execution_count": 11,
     "metadata": {},
     "output_type": "execute_result"
    }
   ],
   "source": [
    "train.shape,test.shape"
   ]
  },
  {
   "cell_type": "code",
   "execution_count": 12,
   "id": "0646ca8e",
   "metadata": {
    "execution": {
     "iopub.execute_input": "2022-10-05T17:54:03.654857Z",
     "iopub.status.busy": "2022-10-05T17:54:03.654447Z",
     "iopub.status.idle": "2022-10-05T17:54:03.667663Z",
     "shell.execute_reply": "2022-10-05T17:54:03.666647Z"
    },
    "papermill": {
     "duration": 0.027432,
     "end_time": "2022-10-05T17:54:03.669969",
     "exception": false,
     "start_time": "2022-10-05T17:54:03.642537",
     "status": "completed"
    },
    "tags": []
   },
   "outputs": [
    {
     "data": {
      "text/plain": [
       "LotFrontage     259\n",
       "GarageType       81\n",
       "GarageCond       81\n",
       "GarageYrBlt      81\n",
       "GarageFinish     81\n",
       "GarageQual       81\n",
       "BsmtFinType2     38\n",
       "BsmtExposure     38\n",
       "BsmtFinType1     37\n",
       "BsmtCond         37\n",
       "BsmtQual         37\n",
       "MasVnrArea        8\n",
       "MasVnrType        8\n",
       "Electrical        1\n",
       "dtype: int64"
      ]
     },
     "execution_count": 12,
     "metadata": {},
     "output_type": "execute_result"
    }
   ],
   "source": [
    "null=train.isnull().sum().sort_values(ascending=False)\n",
    "null[null>0]"
   ]
  },
  {
   "cell_type": "code",
   "execution_count": 13,
   "id": "67b83249",
   "metadata": {
    "execution": {
     "iopub.execute_input": "2022-10-05T17:54:03.693524Z",
     "iopub.status.busy": "2022-10-05T17:54:03.693120Z",
     "iopub.status.idle": "2022-10-05T17:54:03.706900Z",
     "shell.execute_reply": "2022-10-05T17:54:03.705763Z"
    },
    "papermill": {
     "duration": 0.028084,
     "end_time": "2022-10-05T17:54:03.709132",
     "exception": false,
     "start_time": "2022-10-05T17:54:03.681048",
     "status": "completed"
    },
    "tags": []
   },
   "outputs": [
    {
     "data": {
      "text/plain": [
       "LotFrontage     227\n",
       "GarageYrBlt      78\n",
       "GarageFinish     78\n",
       "GarageQual       78\n",
       "GarageCond       78\n",
       "GarageType       76\n",
       "BsmtCond         45\n",
       "BsmtExposure     44\n",
       "BsmtQual         44\n",
       "BsmtFinType1     42\n",
       "BsmtFinType2     42\n",
       "MasVnrType       16\n",
       "MasVnrArea       15\n",
       "MSZoning          4\n",
       "Utilities         2\n",
       "Functional        2\n",
       "BsmtHalfBath      2\n",
       "BsmtFullBath      2\n",
       "Exterior2nd       1\n",
       "BsmtFinSF1        1\n",
       "BsmtFinSF2        1\n",
       "BsmtUnfSF         1\n",
       "KitchenQual       1\n",
       "TotalBsmtSF       1\n",
       "Exterior1st       1\n",
       "GarageArea        1\n",
       "SaleType          1\n",
       "GarageCars        1\n",
       "dtype: int64"
      ]
     },
     "execution_count": 13,
     "metadata": {},
     "output_type": "execute_result"
    }
   ],
   "source": [
    "null2=test.isnull().sum().sort_values(ascending=False)\n",
    "null2[null2>0]"
   ]
  },
  {
   "cell_type": "code",
   "execution_count": 14,
   "id": "b8ced4cd",
   "metadata": {
    "execution": {
     "iopub.execute_input": "2022-10-05T17:54:03.732972Z",
     "iopub.status.busy": "2022-10-05T17:54:03.732341Z",
     "iopub.status.idle": "2022-10-05T17:54:03.739154Z",
     "shell.execute_reply": "2022-10-05T17:54:03.738202Z"
    },
    "papermill": {
     "duration": 0.021038,
     "end_time": "2022-10-05T17:54:03.741195",
     "exception": false,
     "start_time": "2022-10-05T17:54:03.720157",
     "status": "completed"
    },
    "tags": []
   },
   "outputs": [
    {
     "data": {
      "text/plain": [
       "(dtype('float64'), dtype('float64'))"
      ]
     },
     "execution_count": 14,
     "metadata": {},
     "output_type": "execute_result"
    }
   ],
   "source": [
    "train.LotFrontage.dtypes, test.LotFrontage.dtypes"
   ]
  },
  {
   "cell_type": "code",
   "execution_count": 15,
   "id": "bf647e18",
   "metadata": {
    "execution": {
     "iopub.execute_input": "2022-10-05T17:54:03.764537Z",
     "iopub.status.busy": "2022-10-05T17:54:03.764162Z",
     "iopub.status.idle": "2022-10-05T17:54:04.713117Z",
     "shell.execute_reply": "2022-10-05T17:54:04.712006Z"
    },
    "papermill": {
     "duration": 0.963747,
     "end_time": "2022-10-05T17:54:04.715887",
     "exception": false,
     "start_time": "2022-10-05T17:54:03.752140",
     "status": "completed"
    },
    "tags": []
   },
   "outputs": [],
   "source": [
    "import seaborn as sns\n",
    "import matplotlib.pyplot as plt"
   ]
  },
  {
   "cell_type": "code",
   "execution_count": 16,
   "id": "8abba38d",
   "metadata": {
    "execution": {
     "iopub.execute_input": "2022-10-05T17:54:04.739726Z",
     "iopub.status.busy": "2022-10-05T17:54:04.739327Z",
     "iopub.status.idle": "2022-10-05T17:54:05.257773Z",
     "shell.execute_reply": "2022-10-05T17:54:05.256696Z"
    },
    "papermill": {
     "duration": 0.533162,
     "end_time": "2022-10-05T17:54:05.260187",
     "exception": false,
     "start_time": "2022-10-05T17:54:04.727025",
     "status": "completed"
    },
    "tags": []
   },
   "outputs": [
    {
     "name": "stderr",
     "output_type": "stream",
     "text": [
      "/opt/conda/lib/python3.7/site-packages/seaborn/distributions.py:2619: FutureWarning: `distplot` is a deprecated function and will be removed in a future version. Please adapt your code to use either `displot` (a figure-level function with similar flexibility) or `histplot` (an axes-level function for histograms).\n",
      "  warnings.warn(msg, FutureWarning)\n",
      "/opt/conda/lib/python3.7/site-packages/seaborn/distributions.py:2619: FutureWarning: `distplot` is a deprecated function and will be removed in a future version. Please adapt your code to use either `displot` (a figure-level function with similar flexibility) or `histplot` (an axes-level function for histograms).\n",
      "  warnings.warn(msg, FutureWarning)\n"
     ]
    },
    {
     "data": {
      "image/png": "[encoded data removed]",
      "text/plain": [
       "<Figure size 792x216 with 2 Axes>"
      ]
     },
     "metadata": {
      "needs_background": "light"
     },
     "output_type": "display_data"
    }
   ],
   "source": [
    "plt.figure(figsize=(11,3))\n",
    "plt.subplot(1,2,1)\n",
    "sns.distplot(train['LotFrontage'])\n",
    "plt.title('Train LotFrontage Distribution')\n",
    "plt.ylabel('Count')\n",
    "\n",
    "plt.subplot(1,2,2)\n",
    "sns.distplot(test['LotFrontage'])\n",
    "plt.title('Test LotFrontage Distribution')\n",
    "plt.ylabel('Count')\n",
    "plt.show()"
   ]
  },
  {
   "cell_type": "code",
   "execution_count": 17,
   "id": "598625be",
   "metadata": {
    "execution": {
     "iopub.execute_input": "2022-10-05T17:54:05.286375Z",
     "iopub.status.busy": "2022-10-05T17:54:05.285280Z",
     "iopub.status.idle": "2022-10-05T17:54:05.299128Z",
     "shell.execute_reply": "2022-10-05T17:54:05.297363Z"
    },
    "papermill": {
     "duration": 0.029929,
     "end_time": "2022-10-05T17:54:05.302235",
     "exception": false,
     "start_time": "2022-10-05T17:54:05.272306",
     "status": "completed"
    },
    "tags": []
   },
   "outputs": [
    {
     "data": {
      "text/plain": [
       "count    1201.000000\n",
       "mean       70.049958\n",
       "std        24.284752\n",
       "min        21.000000\n",
       "25%        59.000000\n",
       "50%        69.000000\n",
       "75%        80.000000\n",
       "max       313.000000\n",
       "Name: LotFrontage, dtype: float64"
      ]
     },
     "execution_count": 17,
     "metadata": {},
     "output_type": "execute_result"
    }
   ],
   "source": [
    "train['LotFrontage'].describe()"
   ]
  },
  {
   "cell_type": "code",
   "execution_count": 18,
   "id": "a03727e1",
   "metadata": {
    "execution": {
     "iopub.execute_input": "2022-10-05T17:54:05.327848Z",
     "iopub.status.busy": "2022-10-05T17:54:05.326981Z",
     "iopub.status.idle": "2022-10-05T17:54:05.335918Z",
     "shell.execute_reply": "2022-10-05T17:54:05.335194Z"
    },
    "papermill": {
     "duration": 0.023823,
     "end_time": "2022-10-05T17:54:05.337952",
     "exception": false,
     "start_time": "2022-10-05T17:54:05.314129",
     "status": "completed"
    },
    "tags": []
   },
   "outputs": [
    {
     "data": {
      "text/plain": [
       "count    1232.000000\n",
       "mean       68.580357\n",
       "std        22.376841\n",
       "min        21.000000\n",
       "25%        58.000000\n",
       "50%        67.000000\n",
       "75%        80.000000\n",
       "max       200.000000\n",
       "Name: LotFrontage, dtype: float64"
      ]
     },
     "execution_count": 18,
     "metadata": {},
     "output_type": "execute_result"
    }
   ],
   "source": [
    "test['LotFrontage'].describe()"
   ]
  },
  {
   "cell_type": "code",
   "execution_count": 19,
   "id": "586e11a7",
   "metadata": {
    "execution": {
     "iopub.execute_input": "2022-10-05T17:54:05.363337Z",
     "iopub.status.busy": "2022-10-05T17:54:05.362753Z",
     "iopub.status.idle": "2022-10-05T17:54:05.367733Z",
     "shell.execute_reply": "2022-10-05T17:54:05.366945Z"
    },
    "papermill": {
     "duration": 0.020029,
     "end_time": "2022-10-05T17:54:05.369707",
     "exception": false,
     "start_time": "2022-10-05T17:54:05.349678",
     "status": "completed"
    },
    "tags": []
   },
   "outputs": [],
   "source": [
    "train['LotFrontage'].fillna(65,inplace=True)\n",
    "test['LotFrontage'].fillna(68,inplace=True)"
   ]
  },
  {
   "cell_type": "code",
   "execution_count": 20,
   "id": "4fd75be1",
   "metadata": {
    "execution": {
     "iopub.execute_input": "2022-10-05T17:54:05.395334Z",
     "iopub.status.busy": "2022-10-05T17:54:05.394778Z",
     "iopub.status.idle": "2022-10-05T17:54:05.401695Z",
     "shell.execute_reply": "2022-10-05T17:54:05.400970Z"
    },
    "papermill": {
     "duration": 0.021893,
     "end_time": "2022-10-05T17:54:05.403675",
     "exception": false,
     "start_time": "2022-10-05T17:54:05.381782",
     "status": "completed"
    },
    "tags": []
   },
   "outputs": [
    {
     "data": {
      "text/plain": [
       "Attchd     870\n",
       "Detchd     387\n",
       "BuiltIn     88\n",
       "Basment     19\n",
       "CarPort      9\n",
       "2Types       6\n",
       "Name: GarageType, dtype: int64"
      ]
     },
     "execution_count": 20,
     "metadata": {},
     "output_type": "execute_result"
    }
   ],
   "source": [
    "train['GarageType'].value_counts()"
   ]
  },
  {
   "cell_type": "code",
   "execution_count": 21,
   "id": "6f787d03",
   "metadata": {
    "execution": {
     "iopub.execute_input": "2022-10-05T17:54:05.429076Z",
     "iopub.status.busy": "2022-10-05T17:54:05.428260Z",
     "iopub.status.idle": "2022-10-05T17:54:05.435498Z",
     "shell.execute_reply": "2022-10-05T17:54:05.434744Z"
    },
    "papermill": {
     "duration": 0.022092,
     "end_time": "2022-10-05T17:54:05.437483",
     "exception": false,
     "start_time": "2022-10-05T17:54:05.415391",
     "status": "completed"
    },
    "tags": []
   },
   "outputs": [
    {
     "data": {
      "text/plain": [
       "Attchd     853\n",
       "Detchd     392\n",
       "BuiltIn     98\n",
       "Basment     17\n",
       "2Types      17\n",
       "CarPort      6\n",
       "Name: GarageType, dtype: int64"
      ]
     },
     "execution_count": 21,
     "metadata": {},
     "output_type": "execute_result"
    }
   ],
   "source": [
    "test['GarageType'].value_counts()"
   ]
  },
  {
   "cell_type": "code",
   "execution_count": 22,
   "id": "7e276f25",
   "metadata": {
    "execution": {
     "iopub.execute_input": "2022-10-05T17:54:05.462865Z",
     "iopub.status.busy": "2022-10-05T17:54:05.462293Z",
     "iopub.status.idle": "2022-10-05T17:54:05.471267Z",
     "shell.execute_reply": "2022-10-05T17:54:05.470160Z"
    },
    "papermill": {
     "duration": 0.024389,
     "end_time": "2022-10-05T17:54:05.473671",
     "exception": false,
     "start_time": "2022-10-05T17:54:05.449282",
     "status": "completed"
    },
    "tags": []
   },
   "outputs": [],
   "source": [
    "train['GarageType'].fillna(method='ffill',inplace=True)\n",
    "test['GarageType'].fillna(method='ffill',inplace=True)"
   ]
  },
  {
   "cell_type": "code",
   "execution_count": 23,
   "id": "9222056b",
   "metadata": {
    "execution": {
     "iopub.execute_input": "2022-10-05T17:54:05.499530Z",
     "iopub.status.busy": "2022-10-05T17:54:05.499154Z",
     "iopub.status.idle": "2022-10-05T17:54:05.508495Z",
     "shell.execute_reply": "2022-10-05T17:54:05.507479Z"
    },
    "papermill": {
     "duration": 0.02495,
     "end_time": "2022-10-05T17:54:05.510811",
     "exception": false,
     "start_time": "2022-10-05T17:54:05.485861",
     "status": "completed"
    },
    "tags": []
   },
   "outputs": [
    {
     "data": {
      "text/plain": [
       "count     1379\n",
       "unique       5\n",
       "top         TA\n",
       "freq      1326\n",
       "Name: GarageCond, dtype: object"
      ]
     },
     "execution_count": 23,
     "metadata": {},
     "output_type": "execute_result"
    }
   ],
   "source": [
    "train['GarageCond'].describe()"
   ]
  },
  {
   "cell_type": "code",
   "execution_count": 24,
   "id": "08dafdad",
   "metadata": {
    "execution": {
     "iopub.execute_input": "2022-10-05T17:54:05.537969Z",
     "iopub.status.busy": "2022-10-05T17:54:05.537591Z",
     "iopub.status.idle": "2022-10-05T17:54:05.546548Z",
     "shell.execute_reply": "2022-10-05T17:54:05.545745Z"
    },
    "papermill": {
     "duration": 0.024058,
     "end_time": "2022-10-05T17:54:05.548568",
     "exception": false,
     "start_time": "2022-10-05T17:54:05.524510",
     "status": "completed"
    },
    "tags": []
   },
   "outputs": [
    {
     "data": {
      "text/plain": [
       "count     1381\n",
       "unique       5\n",
       "top         TA\n",
       "freq      1328\n",
       "Name: GarageCond, dtype: object"
      ]
     },
     "execution_count": 24,
     "metadata": {},
     "output_type": "execute_result"
    }
   ],
   "source": [
    "test['GarageCond'].describe()"
   ]
  },
  {
   "cell_type": "code",
   "execution_count": 25,
   "id": "425b2588",
   "metadata": {
    "execution": {
     "iopub.execute_input": "2022-10-05T17:54:05.574341Z",
     "iopub.status.busy": "2022-10-05T17:54:05.573772Z",
     "iopub.status.idle": "2022-10-05T17:54:05.579839Z",
     "shell.execute_reply": "2022-10-05T17:54:05.578918Z"
    },
    "papermill": {
     "duration": 0.021616,
     "end_time": "2022-10-05T17:54:05.582072",
     "exception": false,
     "start_time": "2022-10-05T17:54:05.560456",
     "status": "completed"
    },
    "tags": []
   },
   "outputs": [],
   "source": [
    "train['GarageCond'].fillna('TA',inplace=True)\n",
    "test['GarageCond'].fillna('TA',inplace=True)"
   ]
  },
  {
   "cell_type": "code",
   "execution_count": 26,
   "id": "505f5dda",
   "metadata": {
    "execution": {
     "iopub.execute_input": "2022-10-05T17:54:05.607279Z",
     "iopub.status.busy": "2022-10-05T17:54:05.606960Z",
     "iopub.status.idle": "2022-10-05T17:54:05.614736Z",
     "shell.execute_reply": "2022-10-05T17:54:05.613942Z"
    },
    "papermill": {
     "duration": 0.022615,
     "end_time": "2022-10-05T17:54:05.616686",
     "exception": false,
     "start_time": "2022-10-05T17:54:05.594071",
     "status": "completed"
    },
    "tags": []
   },
   "outputs": [
    {
     "data": {
      "text/plain": [
       "(81, 78)"
      ]
     },
     "execution_count": 26,
     "metadata": {},
     "output_type": "execute_result"
    }
   ],
   "source": [
    "train['GarageYrBlt'].isnull().sum(),  test['GarageYrBlt'].isnull().sum()"
   ]
  },
  {
   "cell_type": "code",
   "execution_count": 27,
   "id": "0c5a1539",
   "metadata": {
    "execution": {
     "iopub.execute_input": "2022-10-05T17:54:05.642105Z",
     "iopub.status.busy": "2022-10-05T17:54:05.641747Z",
     "iopub.status.idle": "2022-10-05T17:54:06.059284Z",
     "shell.execute_reply": "2022-10-05T17:54:06.058254Z"
    },
    "papermill": {
     "duration": 0.433025,
     "end_time": "2022-10-05T17:54:06.061780",
     "exception": false,
     "start_time": "2022-10-05T17:54:05.628755",
     "status": "completed"
    },
    "tags": []
   },
   "outputs": [
    {
     "name": "stderr",
     "output_type": "stream",
     "text": [
      "/opt/conda/lib/python3.7/site-packages/seaborn/distributions.py:2619: FutureWarning: `distplot` is a deprecated function and will be removed in a future version. Please adapt your code to use either `displot` (a figure-level function with similar flexibility) or `histplot` (an axes-level function for histograms).\n",
      "  warnings.warn(msg, FutureWarning)\n",
      "/opt/conda/lib/python3.7/site-packages/seaborn/distributions.py:2619: FutureWarning: `distplot` is a deprecated function and will be removed in a future version. Please adapt your code to use either `displot` (a figure-level function with similar flexibility) or `histplot` (an axes-level function for histograms).\n",
      "  warnings.warn(msg, FutureWarning)\n"
     ]
    },
    {
     "data": {
      "image/png": "[encoded data removed]",
      "text/plain": [
       "<Figure size 792x216 with 2 Axes>"
      ]
     },
     "metadata": {
      "needs_background": "light"
     },
     "output_type": "display_data"
    }
   ],
   "source": [
    "plt.figure(figsize=(11,3))\n",
    "plt.subplot(1,2,1)\n",
    "sns.distplot(train['GarageYrBlt'])\n",
    "plt.ylabel('Count')\n",
    "\n",
    "plt.subplot(1,2,2)\n",
    "sns.distplot(test['GarageYrBlt'])\n",
    "plt.ylabel('Count')\n",
    "plt.show()"
   ]
  },
  {
   "cell_type": "code",
   "execution_count": 28,
   "id": "a0b7539c",
   "metadata": {
    "execution": {
     "iopub.execute_input": "2022-10-05T17:54:06.089473Z",
     "iopub.status.busy": "2022-10-05T17:54:06.088678Z",
     "iopub.status.idle": "2022-10-05T17:54:06.099090Z",
     "shell.execute_reply": "2022-10-05T17:54:06.097919Z"
    },
    "papermill": {
     "duration": 0.026672,
     "end_time": "2022-10-05T17:54:06.101275",
     "exception": false,
     "start_time": "2022-10-05T17:54:06.074603",
     "status": "completed"
    },
    "tags": []
   },
   "outputs": [
    {
     "data": {
      "text/plain": [
       "0    2005.0\n",
       "dtype: float64"
      ]
     },
     "execution_count": 28,
     "metadata": {},
     "output_type": "execute_result"
    }
   ],
   "source": [
    "train['GarageYrBlt'].mode()"
   ]
  },
  {
   "cell_type": "code",
   "execution_count": 29,
   "id": "e9df4d44",
   "metadata": {
    "execution": {
     "iopub.execute_input": "2022-10-05T17:54:06.129311Z",
     "iopub.status.busy": "2022-10-05T17:54:06.128325Z",
     "iopub.status.idle": "2022-10-05T17:54:06.136505Z",
     "shell.execute_reply": "2022-10-05T17:54:06.135613Z"
    },
    "papermill": {
     "duration": 0.024165,
     "end_time": "2022-10-05T17:54:06.138525",
     "exception": false,
     "start_time": "2022-10-05T17:54:06.114360",
     "status": "completed"
    },
    "tags": []
   },
   "outputs": [
    {
     "data": {
      "text/plain": [
       "0    2005.0\n",
       "dtype: float64"
      ]
     },
     "execution_count": 29,
     "metadata": {},
     "output_type": "execute_result"
    }
   ],
   "source": [
    "test['GarageYrBlt'].mode()"
   ]
  },
  {
   "cell_type": "code",
   "execution_count": 30,
   "id": "76f3bfd8",
   "metadata": {
    "execution": {
     "iopub.execute_input": "2022-10-05T17:54:06.166256Z",
     "iopub.status.busy": "2022-10-05T17:54:06.165561Z",
     "iopub.status.idle": "2022-10-05T17:54:06.193987Z",
     "shell.execute_reply": "2022-10-05T17:54:06.193166Z"
    },
    "papermill": {
     "duration": 0.044672,
     "end_time": "2022-10-05T17:54:06.196040",
     "exception": false,
     "start_time": "2022-10-05T17:54:06.151368",
     "status": "completed"
    },
    "tags": []
   },
   "outputs": [
    {
     "data": {
      "text/html": [
       "<div>\n",
       "<style scoped>\n",
       "    .dataframe tbody tr th:only-of-type {\n",
       "        vertical-align: middle;\n",
       "    }\n",
       "\n",
       "    .dataframe tbody tr th {\n",
       "        vertical-align: top;\n",
       "    }\n",
       "\n",
       "    .dataframe thead th {\n",
       "        text-align: right;\n",
       "    }\n",
       "</style>\n",
       "<table border=\"1\" class=\"dataframe\">\n",
       "  <thead>\n",
       "    <tr style=\"text-align: right;\">\n",
       "      <th></th>\n",
       "      <th>Id</th>\n",
       "      <th>MSSubClass</th>\n",
       "      <th>MSZoning</th>\n",
       "      <th>LotFrontage</th>\n",
       "      <th>LotArea</th>\n",
       "      <th>Street</th>\n",
       "      <th>LotShape</th>\n",
       "      <th>LandContour</th>\n",
       "      <th>Utilities</th>\n",
       "      <th>LotConfig</th>\n",
       "      <th>...</th>\n",
       "      <th>EnclosedPorch</th>\n",
       "      <th>3SsnPorch</th>\n",
       "      <th>ScreenPorch</th>\n",
       "      <th>PoolArea</th>\n",
       "      <th>MiscVal</th>\n",
       "      <th>MoSold</th>\n",
       "      <th>YrSold</th>\n",
       "      <th>SaleType</th>\n",
       "      <th>SaleCondition</th>\n",
       "      <th>SalePrice</th>\n",
       "    </tr>\n",
       "  </thead>\n",
       "  <tbody>\n",
       "    <tr>\n",
       "      <th>39</th>\n",
       "      <td>40</td>\n",
       "      <td>90</td>\n",
       "      <td>RL</td>\n",
       "      <td>65.0</td>\n",
       "      <td>6040</td>\n",
       "      <td>Pave</td>\n",
       "      <td>Reg</td>\n",
       "      <td>Lvl</td>\n",
       "      <td>AllPub</td>\n",
       "      <td>Inside</td>\n",
       "      <td>...</td>\n",
       "      <td>0</td>\n",
       "      <td>0</td>\n",
       "      <td>0</td>\n",
       "      <td>0</td>\n",
       "      <td>0</td>\n",
       "      <td>6</td>\n",
       "      <td>2008</td>\n",
       "      <td>WD</td>\n",
       "      <td>AdjLand</td>\n",
       "      <td>82000</td>\n",
       "    </tr>\n",
       "    <tr>\n",
       "      <th>48</th>\n",
       "      <td>49</td>\n",
       "      <td>190</td>\n",
       "      <td>RM</td>\n",
       "      <td>33.0</td>\n",
       "      <td>4456</td>\n",
       "      <td>Pave</td>\n",
       "      <td>Reg</td>\n",
       "      <td>Lvl</td>\n",
       "      <td>AllPub</td>\n",
       "      <td>Inside</td>\n",
       "      <td>...</td>\n",
       "      <td>102</td>\n",
       "      <td>0</td>\n",
       "      <td>0</td>\n",
       "      <td>0</td>\n",
       "      <td>0</td>\n",
       "      <td>6</td>\n",
       "      <td>2009</td>\n",
       "      <td>New</td>\n",
       "      <td>Partial</td>\n",
       "      <td>113000</td>\n",
       "    </tr>\n",
       "    <tr>\n",
       "      <th>78</th>\n",
       "      <td>79</td>\n",
       "      <td>90</td>\n",
       "      <td>RL</td>\n",
       "      <td>72.0</td>\n",
       "      <td>10778</td>\n",
       "      <td>Pave</td>\n",
       "      <td>Reg</td>\n",
       "      <td>Lvl</td>\n",
       "      <td>AllPub</td>\n",
       "      <td>Inside</td>\n",
       "      <td>...</td>\n",
       "      <td>0</td>\n",
       "      <td>0</td>\n",
       "      <td>0</td>\n",
       "      <td>0</td>\n",
       "      <td>0</td>\n",
       "      <td>4</td>\n",
       "      <td>2010</td>\n",
       "      <td>WD</td>\n",
       "      <td>Normal</td>\n",
       "      <td>136500</td>\n",
       "    </tr>\n",
       "    <tr>\n",
       "      <th>88</th>\n",
       "      <td>89</td>\n",
       "      <td>50</td>\n",
       "      <td>C (all)</td>\n",
       "      <td>105.0</td>\n",
       "      <td>8470</td>\n",
       "      <td>Pave</td>\n",
       "      <td>IR1</td>\n",
       "      <td>Lvl</td>\n",
       "      <td>AllPub</td>\n",
       "      <td>Corner</td>\n",
       "      <td>...</td>\n",
       "      <td>156</td>\n",
       "      <td>0</td>\n",
       "      <td>0</td>\n",
       "      <td>0</td>\n",
       "      <td>0</td>\n",
       "      <td>10</td>\n",
       "      <td>2009</td>\n",
       "      <td>ConLD</td>\n",
       "      <td>Abnorml</td>\n",
       "      <td>85000</td>\n",
       "    </tr>\n",
       "    <tr>\n",
       "      <th>89</th>\n",
       "      <td>90</td>\n",
       "      <td>20</td>\n",
       "      <td>RL</td>\n",
       "      <td>60.0</td>\n",
       "      <td>8070</td>\n",
       "      <td>Pave</td>\n",
       "      <td>Reg</td>\n",
       "      <td>Lvl</td>\n",
       "      <td>AllPub</td>\n",
       "      <td>Inside</td>\n",
       "      <td>...</td>\n",
       "      <td>0</td>\n",
       "      <td>0</td>\n",
       "      <td>0</td>\n",
       "      <td>0</td>\n",
       "      <td>0</td>\n",
       "      <td>8</td>\n",
       "      <td>2007</td>\n",
       "      <td>WD</td>\n",
       "      <td>Normal</td>\n",
       "      <td>123600</td>\n",
       "    </tr>\n",
       "    <tr>\n",
       "      <th>...</th>\n",
       "      <td>...</td>\n",
       "      <td>...</td>\n",
       "      <td>...</td>\n",
       "      <td>...</td>\n",
       "      <td>...</td>\n",
       "      <td>...</td>\n",
       "      <td>...</td>\n",
       "      <td>...</td>\n",
       "      <td>...</td>\n",
       "      <td>...</td>\n",
       "      <td>...</td>\n",
       "      <td>...</td>\n",
       "      <td>...</td>\n",
       "      <td>...</td>\n",
       "      <td>...</td>\n",
       "      <td>...</td>\n",
       "      <td>...</td>\n",
       "      <td>...</td>\n",
       "      <td>...</td>\n",
       "      <td>...</td>\n",
       "      <td>...</td>\n",
       "    </tr>\n",
       "    <tr>\n",
       "      <th>1349</th>\n",
       "      <td>1350</td>\n",
       "      <td>70</td>\n",
       "      <td>RM</td>\n",
       "      <td>50.0</td>\n",
       "      <td>5250</td>\n",
       "      <td>Pave</td>\n",
       "      <td>Reg</td>\n",
       "      <td>Lvl</td>\n",
       "      <td>AllPub</td>\n",
       "      <td>Inside</td>\n",
       "      <td>...</td>\n",
       "      <td>20</td>\n",
       "      <td>0</td>\n",
       "      <td>0</td>\n",
       "      <td>0</td>\n",
       "      <td>0</td>\n",
       "      <td>12</td>\n",
       "      <td>2008</td>\n",
       "      <td>WD</td>\n",
       "      <td>Normal</td>\n",
       "      <td>122000</td>\n",
       "    </tr>\n",
       "    <tr>\n",
       "      <th>1407</th>\n",
       "      <td>1408</td>\n",
       "      <td>20</td>\n",
       "      <td>RL</td>\n",
       "      <td>65.0</td>\n",
       "      <td>8780</td>\n",
       "      <td>Pave</td>\n",
       "      <td>IR1</td>\n",
       "      <td>Lvl</td>\n",
       "      <td>AllPub</td>\n",
       "      <td>Corner</td>\n",
       "      <td>...</td>\n",
       "      <td>0</td>\n",
       "      <td>0</td>\n",
       "      <td>0</td>\n",
       "      <td>0</td>\n",
       "      <td>0</td>\n",
       "      <td>3</td>\n",
       "      <td>2009</td>\n",
       "      <td>WD</td>\n",
       "      <td>Normal</td>\n",
       "      <td>112000</td>\n",
       "    </tr>\n",
       "    <tr>\n",
       "      <th>1449</th>\n",
       "      <td>1450</td>\n",
       "      <td>180</td>\n",
       "      <td>RM</td>\n",
       "      <td>21.0</td>\n",
       "      <td>1533</td>\n",
       "      <td>Pave</td>\n",
       "      <td>Reg</td>\n",
       "      <td>Lvl</td>\n",
       "      <td>AllPub</td>\n",
       "      <td>Inside</td>\n",
       "      <td>...</td>\n",
       "      <td>0</td>\n",
       "      <td>0</td>\n",
       "      <td>0</td>\n",
       "      <td>0</td>\n",
       "      <td>0</td>\n",
       "      <td>8</td>\n",
       "      <td>2006</td>\n",
       "      <td>WD</td>\n",
       "      <td>Abnorml</td>\n",
       "      <td>92000</td>\n",
       "    </tr>\n",
       "    <tr>\n",
       "      <th>1450</th>\n",
       "      <td>1451</td>\n",
       "      <td>90</td>\n",
       "      <td>RL</td>\n",
       "      <td>60.0</td>\n",
       "      <td>9000</td>\n",
       "      <td>Pave</td>\n",
       "      <td>Reg</td>\n",
       "      <td>Lvl</td>\n",
       "      <td>AllPub</td>\n",
       "      <td>FR2</td>\n",
       "      <td>...</td>\n",
       "      <td>0</td>\n",
       "      <td>0</td>\n",
       "      <td>0</td>\n",
       "      <td>0</td>\n",
       "      <td>0</td>\n",
       "      <td>9</td>\n",
       "      <td>2009</td>\n",
       "      <td>WD</td>\n",
       "      <td>Normal</td>\n",
       "      <td>136000</td>\n",
       "    </tr>\n",
       "    <tr>\n",
       "      <th>1453</th>\n",
       "      <td>1454</td>\n",
       "      <td>20</td>\n",
       "      <td>RL</td>\n",
       "      <td>90.0</td>\n",
       "      <td>17217</td>\n",
       "      <td>Pave</td>\n",
       "      <td>Reg</td>\n",
       "      <td>Lvl</td>\n",
       "      <td>AllPub</td>\n",
       "      <td>Inside</td>\n",
       "      <td>...</td>\n",
       "      <td>0</td>\n",
       "      <td>0</td>\n",
       "      <td>0</td>\n",
       "      <td>0</td>\n",
       "      <td>0</td>\n",
       "      <td>7</td>\n",
       "      <td>2006</td>\n",
       "      <td>WD</td>\n",
       "      <td>Abnorml</td>\n",
       "      <td>84500</td>\n",
       "    </tr>\n",
       "  </tbody>\n",
       "</table>\n",
       "<p>81 rows × 76 columns</p>\n",
       "</div>"
      ],
      "text/plain": [
       "        Id  MSSubClass MSZoning  LotFrontage  LotArea Street LotShape  \\\n",
       "39      40          90       RL         65.0     6040   Pave      Reg   \n",
       "48      49         190       RM         33.0     4456   Pave      Reg   \n",
       "78      79          90       RL         72.0    10778   Pave      Reg   \n",
       "88      89          50  C (all)        105.0     8470   Pave      IR1   \n",
       "89      90          20       RL         60.0     8070   Pave      Reg   \n",
       "...    ...         ...      ...          ...      ...    ...      ...   \n",
       "1349  1350          70       RM         50.0     5250   Pave      Reg   \n",
       "1407  1408          20       RL         65.0     8780   Pave      IR1   \n",
       "1449  1450         180       RM         21.0     1533   Pave      Reg   \n",
       "1450  1451          90       RL         60.0     9000   Pave      Reg   \n",
       "1453  1454          20       RL         90.0    17217   Pave      Reg   \n",
       "\n",
       "     LandContour Utilities LotConfig  ... EnclosedPorch 3SsnPorch ScreenPorch  \\\n",
       "39           Lvl    AllPub    Inside  ...             0         0           0   \n",
       "48           Lvl    AllPub    Inside  ...           102         0           0   \n",
       "78           Lvl    AllPub    Inside  ...             0         0           0   \n",
       "88           Lvl    AllPub    Corner  ...           156         0           0   \n",
       "89           Lvl    AllPub    Inside  ...             0         0           0   \n",
       "...          ...       ...       ...  ...           ...       ...         ...   \n",
       "1349         Lvl    AllPub    Inside  ...            20         0           0   \n",
       "1407         Lvl    AllPub    Corner  ...             0         0           0   \n",
       "1449         Lvl    AllPub    Inside  ...             0         0           0   \n",
       "1450         Lvl    AllPub       FR2  ...             0         0           0   \n",
       "1453         Lvl    AllPub    Inside  ...             0         0           0   \n",
       "\n",
       "     PoolArea MiscVal MoSold  YrSold  SaleType  SaleCondition  SalePrice  \n",
       "39          0       0      6    2008        WD        AdjLand      82000  \n",
       "48          0       0      6    2009       New        Partial     113000  \n",
       "78          0       0      4    2010        WD         Normal     136500  \n",
       "88          0       0     10    2009     ConLD        Abnorml      85000  \n",
       "89          0       0      8    2007        WD         Normal     123600  \n",
       "...       ...     ...    ...     ...       ...            ...        ...  \n",
       "1349        0       0     12    2008        WD         Normal     122000  \n",
       "1407        0       0      3    2009        WD         Normal     112000  \n",
       "1449        0       0      8    2006        WD        Abnorml      92000  \n",
       "1450        0       0      9    2009        WD         Normal     136000  \n",
       "1453        0       0      7    2006        WD        Abnorml      84500  \n",
       "\n",
       "[81 rows x 76 columns]"
      ]
     },
     "execution_count": 30,
     "metadata": {},
     "output_type": "execute_result"
    }
   ],
   "source": [
    "nan=train[train['GarageYrBlt'].isna()]\n",
    "nan"
   ]
  },
  {
   "cell_type": "code",
   "execution_count": 31,
   "id": "a9328da3",
   "metadata": {
    "execution": {
     "iopub.execute_input": "2022-10-05T17:54:06.224841Z",
     "iopub.status.busy": "2022-10-05T17:54:06.224393Z",
     "iopub.status.idle": "2022-10-05T17:54:06.241019Z",
     "shell.execute_reply": "2022-10-05T17:54:06.239903Z"
    },
    "papermill": {
     "duration": 0.033731,
     "end_time": "2022-10-05T17:54:06.243300",
     "exception": false,
     "start_time": "2022-10-05T17:54:06.209569",
     "status": "completed"
    },
    "tags": []
   },
   "outputs": [
    {
     "data": {
      "text/plain": [
       "GarageYrBlt     1.000000\n",
       "YearBuilt       0.825667\n",
       "YearRemodAdd    0.642277\n",
       "Name: GarageYrBlt, dtype: float64"
      ]
     },
     "execution_count": 31,
     "metadata": {},
     "output_type": "execute_result"
    }
   ],
   "source": [
    "train.corr()['GarageYrBlt'].nlargest(3)"
   ]
  },
  {
   "cell_type": "code",
   "execution_count": 32,
   "id": "a8d0a9a1",
   "metadata": {
    "execution": {
     "iopub.execute_input": "2022-10-05T17:54:06.272886Z",
     "iopub.status.busy": "2022-10-05T17:54:06.272454Z",
     "iopub.status.idle": "2022-10-05T17:54:06.288260Z",
     "shell.execute_reply": "2022-10-05T17:54:06.287218Z"
    },
    "papermill": {
     "duration": 0.032973,
     "end_time": "2022-10-05T17:54:06.290581",
     "exception": false,
     "start_time": "2022-10-05T17:54:06.257608",
     "status": "completed"
    },
    "tags": []
   },
   "outputs": [
    {
     "data": {
      "text/plain": [
       "GarageYrBlt     1.000000\n",
       "YearBuilt       0.844150\n",
       "YearRemodAdd    0.661765\n",
       "Name: GarageYrBlt, dtype: float64"
      ]
     },
     "execution_count": 32,
     "metadata": {},
     "output_type": "execute_result"
    }
   ],
   "source": [
    "test.corr()['GarageYrBlt'].nlargest(3)"
   ]
  },
  {
   "cell_type": "code",
   "execution_count": 33,
   "id": "00114400",
   "metadata": {
    "execution": {
     "iopub.execute_input": "2022-10-05T17:54:06.320077Z",
     "iopub.status.busy": "2022-10-05T17:54:06.319393Z",
     "iopub.status.idle": "2022-10-05T17:54:06.324090Z",
     "shell.execute_reply": "2022-10-05T17:54:06.323055Z"
    },
    "papermill": {
     "duration": 0.021382,
     "end_time": "2022-10-05T17:54:06.326171",
     "exception": false,
     "start_time": "2022-10-05T17:54:06.304789",
     "status": "completed"
    },
    "tags": []
   },
   "outputs": [],
   "source": [
    "# Setting pandas to disaply all rows\n",
    "pd.set_option('display.max_rows', None)"
   ]
  },
  {
   "cell_type": "code",
   "execution_count": 34,
   "id": "7e769630",
   "metadata": {
    "execution": {
     "iopub.execute_input": "2022-10-05T17:54:06.354506Z",
     "iopub.status.busy": "2022-10-05T17:54:06.354185Z",
     "iopub.status.idle": "2022-10-05T17:54:06.369901Z",
     "shell.execute_reply": "2022-10-05T17:54:06.368947Z"
    },
    "papermill": {
     "duration": 0.032312,
     "end_time": "2022-10-05T17:54:06.371915",
     "exception": false,
     "start_time": "2022-10-05T17:54:06.339603",
     "status": "completed"
    },
    "tags": []
   },
   "outputs": [
    {
     "data": {
      "text/html": [
       "<div>\n",
       "<style scoped>\n",
       "    .dataframe tbody tr th:only-of-type {\n",
       "        vertical-align: middle;\n",
       "    }\n",
       "\n",
       "    .dataframe tbody tr th {\n",
       "        vertical-align: top;\n",
       "    }\n",
       "\n",
       "    .dataframe thead th {\n",
       "        text-align: right;\n",
       "    }\n",
       "</style>\n",
       "<table border=\"1\" class=\"dataframe\">\n",
       "  <thead>\n",
       "    <tr style=\"text-align: right;\">\n",
       "      <th></th>\n",
       "      <th>GarageYrBlt</th>\n",
       "      <th>YearBuilt</th>\n",
       "    </tr>\n",
       "  </thead>\n",
       "  <tbody>\n",
       "    <tr>\n",
       "      <th>0</th>\n",
       "      <td>2003.0</td>\n",
       "      <td>2003</td>\n",
       "    </tr>\n",
       "    <tr>\n",
       "      <th>1</th>\n",
       "      <td>1976.0</td>\n",
       "      <td>1976</td>\n",
       "    </tr>\n",
       "    <tr>\n",
       "      <th>2</th>\n",
       "      <td>2001.0</td>\n",
       "      <td>2001</td>\n",
       "    </tr>\n",
       "    <tr>\n",
       "      <th>3</th>\n",
       "      <td>1998.0</td>\n",
       "      <td>1915</td>\n",
       "    </tr>\n",
       "    <tr>\n",
       "      <th>4</th>\n",
       "      <td>2000.0</td>\n",
       "      <td>2000</td>\n",
       "    </tr>\n",
       "    <tr>\n",
       "      <th>5</th>\n",
       "      <td>1993.0</td>\n",
       "      <td>1993</td>\n",
       "    </tr>\n",
       "    <tr>\n",
       "      <th>6</th>\n",
       "      <td>2004.0</td>\n",
       "      <td>2004</td>\n",
       "    </tr>\n",
       "    <tr>\n",
       "      <th>7</th>\n",
       "      <td>1973.0</td>\n",
       "      <td>1973</td>\n",
       "    </tr>\n",
       "    <tr>\n",
       "      <th>8</th>\n",
       "      <td>1931.0</td>\n",
       "      <td>1931</td>\n",
       "    </tr>\n",
       "    <tr>\n",
       "      <th>9</th>\n",
       "      <td>1939.0</td>\n",
       "      <td>1939</td>\n",
       "    </tr>\n",
       "    <tr>\n",
       "      <th>10</th>\n",
       "      <td>1965.0</td>\n",
       "      <td>1965</td>\n",
       "    </tr>\n",
       "    <tr>\n",
       "      <th>11</th>\n",
       "      <td>2005.0</td>\n",
       "      <td>2005</td>\n",
       "    </tr>\n",
       "    <tr>\n",
       "      <th>12</th>\n",
       "      <td>1962.0</td>\n",
       "      <td>1962</td>\n",
       "    </tr>\n",
       "    <tr>\n",
       "      <th>13</th>\n",
       "      <td>2006.0</td>\n",
       "      <td>2006</td>\n",
       "    </tr>\n",
       "    <tr>\n",
       "      <th>14</th>\n",
       "      <td>1960.0</td>\n",
       "      <td>1960</td>\n",
       "    </tr>\n",
       "    <tr>\n",
       "      <th>15</th>\n",
       "      <td>1991.0</td>\n",
       "      <td>1929</td>\n",
       "    </tr>\n",
       "    <tr>\n",
       "      <th>16</th>\n",
       "      <td>1970.0</td>\n",
       "      <td>1970</td>\n",
       "    </tr>\n",
       "    <tr>\n",
       "      <th>17</th>\n",
       "      <td>1967.0</td>\n",
       "      <td>1967</td>\n",
       "    </tr>\n",
       "    <tr>\n",
       "      <th>18</th>\n",
       "      <td>2004.0</td>\n",
       "      <td>2004</td>\n",
       "    </tr>\n",
       "    <tr>\n",
       "      <th>19</th>\n",
       "      <td>1958.0</td>\n",
       "      <td>1958</td>\n",
       "    </tr>\n",
       "    <tr>\n",
       "      <th>20</th>\n",
       "      <td>2005.0</td>\n",
       "      <td>2005</td>\n",
       "    </tr>\n",
       "    <tr>\n",
       "      <th>21</th>\n",
       "      <td>1930.0</td>\n",
       "      <td>1930</td>\n",
       "    </tr>\n",
       "    <tr>\n",
       "      <th>22</th>\n",
       "      <td>2002.0</td>\n",
       "      <td>2002</td>\n",
       "    </tr>\n",
       "    <tr>\n",
       "      <th>23</th>\n",
       "      <td>1976.0</td>\n",
       "      <td>1976</td>\n",
       "    </tr>\n",
       "    <tr>\n",
       "      <th>24</th>\n",
       "      <td>1968.0</td>\n",
       "      <td>1968</td>\n",
       "    </tr>\n",
       "    <tr>\n",
       "      <th>25</th>\n",
       "      <td>2007.0</td>\n",
       "      <td>2007</td>\n",
       "    </tr>\n",
       "    <tr>\n",
       "      <th>26</th>\n",
       "      <td>2005.0</td>\n",
       "      <td>1951</td>\n",
       "    </tr>\n",
       "    <tr>\n",
       "      <th>27</th>\n",
       "      <td>2008.0</td>\n",
       "      <td>2007</td>\n",
       "    </tr>\n",
       "    <tr>\n",
       "      <th>28</th>\n",
       "      <td>1957.0</td>\n",
       "      <td>1957</td>\n",
       "    </tr>\n",
       "    <tr>\n",
       "      <th>29</th>\n",
       "      <td>1920.0</td>\n",
       "      <td>1927</td>\n",
       "    </tr>\n",
       "    <tr>\n",
       "      <th>30</th>\n",
       "      <td>1920.0</td>\n",
       "      <td>1920</td>\n",
       "    </tr>\n",
       "    <tr>\n",
       "      <th>31</th>\n",
       "      <td>1966.0</td>\n",
       "      <td>1966</td>\n",
       "    </tr>\n",
       "    <tr>\n",
       "      <th>32</th>\n",
       "      <td>2007.0</td>\n",
       "      <td>2007</td>\n",
       "    </tr>\n",
       "    <tr>\n",
       "      <th>33</th>\n",
       "      <td>1959.0</td>\n",
       "      <td>1959</td>\n",
       "    </tr>\n",
       "    <tr>\n",
       "      <th>34</th>\n",
       "      <td>2005.0</td>\n",
       "      <td>2005</td>\n",
       "    </tr>\n",
       "    <tr>\n",
       "      <th>35</th>\n",
       "      <td>2004.0</td>\n",
       "      <td>2004</td>\n",
       "    </tr>\n",
       "    <tr>\n",
       "      <th>36</th>\n",
       "      <td>1995.0</td>\n",
       "      <td>1994</td>\n",
       "    </tr>\n",
       "    <tr>\n",
       "      <th>37</th>\n",
       "      <td>1954.0</td>\n",
       "      <td>1954</td>\n",
       "    </tr>\n",
       "    <tr>\n",
       "      <th>38</th>\n",
       "      <td>1953.0</td>\n",
       "      <td>1953</td>\n",
       "    </tr>\n",
       "    <tr>\n",
       "      <th>39</th>\n",
       "      <td>NaN</td>\n",
       "      <td>1955</td>\n",
       "    </tr>\n",
       "    <tr>\n",
       "      <th>40</th>\n",
       "      <td>1965.0</td>\n",
       "      <td>1965</td>\n",
       "    </tr>\n",
       "    <tr>\n",
       "      <th>41</th>\n",
       "      <td>1959.0</td>\n",
       "      <td>1959</td>\n",
       "    </tr>\n",
       "    <tr>\n",
       "      <th>42</th>\n",
       "      <td>1983.0</td>\n",
       "      <td>1983</td>\n",
       "    </tr>\n",
       "    <tr>\n",
       "      <th>43</th>\n",
       "      <td>1977.0</td>\n",
       "      <td>1975</td>\n",
       "    </tr>\n",
       "    <tr>\n",
       "      <th>44</th>\n",
       "      <td>1959.0</td>\n",
       "      <td>1959</td>\n",
       "    </tr>\n",
       "    <tr>\n",
       "      <th>45</th>\n",
       "      <td>2005.0</td>\n",
       "      <td>2005</td>\n",
       "    </tr>\n",
       "    <tr>\n",
       "      <th>46</th>\n",
       "      <td>2003.0</td>\n",
       "      <td>2003</td>\n",
       "    </tr>\n",
       "    <tr>\n",
       "      <th>47</th>\n",
       "      <td>2006.0</td>\n",
       "      <td>2006</td>\n",
       "    </tr>\n",
       "    <tr>\n",
       "      <th>48</th>\n",
       "      <td>NaN</td>\n",
       "      <td>1920</td>\n",
       "    </tr>\n",
       "    <tr>\n",
       "      <th>49</th>\n",
       "      <td>1966.0</td>\n",
       "      <td>1966</td>\n",
       "    </tr>\n",
       "  </tbody>\n",
       "</table>\n",
       "</div>"
      ],
      "text/plain": [
       "    GarageYrBlt  YearBuilt\n",
       "0        2003.0       2003\n",
       "1        1976.0       1976\n",
       "2        2001.0       2001\n",
       "3        1998.0       1915\n",
       "4        2000.0       2000\n",
       "5        1993.0       1993\n",
       "6        2004.0       2004\n",
       "7        1973.0       1973\n",
       "8        1931.0       1931\n",
       "9        1939.0       1939\n",
       "10       1965.0       1965\n",
       "11       2005.0       2005\n",
       "12       1962.0       1962\n",
       "13       2006.0       2006\n",
       "14       1960.0       1960\n",
       "15       1991.0       1929\n",
       "16       1970.0       1970\n",
       "17       1967.0       1967\n",
       "18       2004.0       2004\n",
       "19       1958.0       1958\n",
       "20       2005.0       2005\n",
       "21       1930.0       1930\n",
       "22       2002.0       2002\n",
       "23       1976.0       1976\n",
       "24       1968.0       1968\n",
       "25       2007.0       2007\n",
       "26       2005.0       1951\n",
       "27       2008.0       2007\n",
       "28       1957.0       1957\n",
       "29       1920.0       1927\n",
       "30       1920.0       1920\n",
       "31       1966.0       1966\n",
       "32       2007.0       2007\n",
       "33       1959.0       1959\n",
       "34       2005.0       2005\n",
       "35       2004.0       2004\n",
       "36       1995.0       1994\n",
       "37       1954.0       1954\n",
       "38       1953.0       1953\n",
       "39          NaN       1955\n",
       "40       1965.0       1965\n",
       "41       1959.0       1959\n",
       "42       1983.0       1983\n",
       "43       1977.0       1975\n",
       "44       1959.0       1959\n",
       "45       2005.0       2005\n",
       "46       2003.0       2003\n",
       "47       2006.0       2006\n",
       "48          NaN       1920\n",
       "49       1966.0       1966"
      ]
     },
     "execution_count": 34,
     "metadata": {},
     "output_type": "execute_result"
    }
   ],
   "source": [
    "train[['GarageYrBlt','YearBuilt']][0:50]"
   ]
  },
  {
   "cell_type": "code",
   "execution_count": 35,
   "id": "af014ead",
   "metadata": {
    "execution": {
     "iopub.execute_input": "2022-10-05T17:54:06.401873Z",
     "iopub.status.busy": "2022-10-05T17:54:06.401492Z",
     "iopub.status.idle": "2022-10-05T17:54:06.416993Z",
     "shell.execute_reply": "2022-10-05T17:54:06.416240Z"
    },
    "papermill": {
     "duration": 0.033068,
     "end_time": "2022-10-05T17:54:06.419115",
     "exception": false,
     "start_time": "2022-10-05T17:54:06.386047",
     "status": "completed"
    },
    "tags": []
   },
   "outputs": [
    {
     "data": {
      "text/html": [
       "<div>\n",
       "<style scoped>\n",
       "    .dataframe tbody tr th:only-of-type {\n",
       "        vertical-align: middle;\n",
       "    }\n",
       "\n",
       "    .dataframe tbody tr th {\n",
       "        vertical-align: top;\n",
       "    }\n",
       "\n",
       "    .dataframe thead th {\n",
       "        text-align: right;\n",
       "    }\n",
       "</style>\n",
       "<table border=\"1\" class=\"dataframe\">\n",
       "  <thead>\n",
       "    <tr style=\"text-align: right;\">\n",
       "      <th></th>\n",
       "      <th>GarageYrBlt</th>\n",
       "      <th>YearBuilt</th>\n",
       "    </tr>\n",
       "  </thead>\n",
       "  <tbody>\n",
       "    <tr>\n",
       "      <th>50</th>\n",
       "      <td>1966.0</td>\n",
       "      <td>1966</td>\n",
       "    </tr>\n",
       "    <tr>\n",
       "      <th>51</th>\n",
       "      <td>1967.0</td>\n",
       "      <td>1967</td>\n",
       "    </tr>\n",
       "    <tr>\n",
       "      <th>52</th>\n",
       "      <td>1964.0</td>\n",
       "      <td>1964</td>\n",
       "    </tr>\n",
       "    <tr>\n",
       "      <th>53</th>\n",
       "      <td>NaN</td>\n",
       "      <td>1962</td>\n",
       "    </tr>\n",
       "    <tr>\n",
       "      <th>54</th>\n",
       "      <td>1994.0</td>\n",
       "      <td>1952</td>\n",
       "    </tr>\n",
       "    <tr>\n",
       "      <th>55</th>\n",
       "      <td>1949.0</td>\n",
       "      <td>1949</td>\n",
       "    </tr>\n",
       "    <tr>\n",
       "      <th>56</th>\n",
       "      <td>1966.0</td>\n",
       "      <td>1966</td>\n",
       "    </tr>\n",
       "    <tr>\n",
       "      <th>57</th>\n",
       "      <td>1958.0</td>\n",
       "      <td>1958</td>\n",
       "    </tr>\n",
       "    <tr>\n",
       "      <th>58</th>\n",
       "      <td>2003.0</td>\n",
       "      <td>2003</td>\n",
       "    </tr>\n",
       "    <tr>\n",
       "      <th>59</th>\n",
       "      <td>1959.0</td>\n",
       "      <td>1959</td>\n",
       "    </tr>\n",
       "    <tr>\n",
       "      <th>60</th>\n",
       "      <td>1959.0</td>\n",
       "      <td>1959</td>\n",
       "    </tr>\n",
       "    <tr>\n",
       "      <th>61</th>\n",
       "      <td>1956.0</td>\n",
       "      <td>1959</td>\n",
       "    </tr>\n",
       "    <tr>\n",
       "      <th>62</th>\n",
       "      <td>1956.0</td>\n",
       "      <td>1956</td>\n",
       "    </tr>\n",
       "    <tr>\n",
       "      <th>63</th>\n",
       "      <td>1952.0</td>\n",
       "      <td>1952</td>\n",
       "    </tr>\n",
       "    <tr>\n",
       "      <th>64</th>\n",
       "      <td>1955.0</td>\n",
       "      <td>1955</td>\n",
       "    </tr>\n",
       "    <tr>\n",
       "      <th>65</th>\n",
       "      <td>1958.0</td>\n",
       "      <td>1958</td>\n",
       "    </tr>\n",
       "    <tr>\n",
       "      <th>66</th>\n",
       "      <td>1989.0</td>\n",
       "      <td>1920</td>\n",
       "    </tr>\n",
       "    <tr>\n",
       "      <th>67</th>\n",
       "      <td>1950.0</td>\n",
       "      <td>1948</td>\n",
       "    </tr>\n",
       "    <tr>\n",
       "      <th>68</th>\n",
       "      <td>1960.0</td>\n",
       "      <td>1960</td>\n",
       "    </tr>\n",
       "    <tr>\n",
       "      <th>69</th>\n",
       "      <td>1963.0</td>\n",
       "      <td>1963</td>\n",
       "    </tr>\n",
       "    <tr>\n",
       "      <th>70</th>\n",
       "      <td>1900.0</td>\n",
       "      <td>1900</td>\n",
       "    </tr>\n",
       "    <tr>\n",
       "      <th>71</th>\n",
       "      <td>NaN</td>\n",
       "      <td>1920</td>\n",
       "    </tr>\n",
       "    <tr>\n",
       "      <th>72</th>\n",
       "      <td>1957.0</td>\n",
       "      <td>1957</td>\n",
       "    </tr>\n",
       "    <tr>\n",
       "      <th>73</th>\n",
       "      <td>1938.0</td>\n",
       "      <td>1938</td>\n",
       "    </tr>\n",
       "    <tr>\n",
       "      <th>74</th>\n",
       "      <td>1948.0</td>\n",
       "      <td>1948</td>\n",
       "    </tr>\n",
       "    <tr>\n",
       "      <th>75</th>\n",
       "      <td>1962.0</td>\n",
       "      <td>1920</td>\n",
       "    </tr>\n",
       "    <tr>\n",
       "      <th>76</th>\n",
       "      <td>1928.0</td>\n",
       "      <td>1923</td>\n",
       "    </tr>\n",
       "    <tr>\n",
       "      <th>77</th>\n",
       "      <td>1930.0</td>\n",
       "      <td>1900</td>\n",
       "    </tr>\n",
       "    <tr>\n",
       "      <th>78</th>\n",
       "      <td>2003.0</td>\n",
       "      <td>1890</td>\n",
       "    </tr>\n",
       "    <tr>\n",
       "      <th>79</th>\n",
       "      <td>NaN</td>\n",
       "      <td>1910</td>\n",
       "    </tr>\n",
       "    <tr>\n",
       "      <th>80</th>\n",
       "      <td>1970.0</td>\n",
       "      <td>1922</td>\n",
       "    </tr>\n",
       "    <tr>\n",
       "      <th>81</th>\n",
       "      <td>1950.0</td>\n",
       "      <td>1950</td>\n",
       "    </tr>\n",
       "    <tr>\n",
       "      <th>82</th>\n",
       "      <td>1928.0</td>\n",
       "      <td>1922</td>\n",
       "    </tr>\n",
       "    <tr>\n",
       "      <th>83</th>\n",
       "      <td>1926.0</td>\n",
       "      <td>1925</td>\n",
       "    </tr>\n",
       "    <tr>\n",
       "      <th>84</th>\n",
       "      <td>1939.0</td>\n",
       "      <td>1939</td>\n",
       "    </tr>\n",
       "    <tr>\n",
       "      <th>85</th>\n",
       "      <td>1973.0</td>\n",
       "      <td>1940</td>\n",
       "    </tr>\n",
       "    <tr>\n",
       "      <th>86</th>\n",
       "      <td>1942.0</td>\n",
       "      <td>1942</td>\n",
       "    </tr>\n",
       "    <tr>\n",
       "      <th>87</th>\n",
       "      <td>1948.0</td>\n",
       "      <td>1948</td>\n",
       "    </tr>\n",
       "    <tr>\n",
       "      <th>88</th>\n",
       "      <td>1979.0</td>\n",
       "      <td>1936</td>\n",
       "    </tr>\n",
       "    <tr>\n",
       "      <th>89</th>\n",
       "      <td>1930.0</td>\n",
       "      <td>1930</td>\n",
       "    </tr>\n",
       "    <tr>\n",
       "      <th>90</th>\n",
       "      <td>1923.0</td>\n",
       "      <td>1923</td>\n",
       "    </tr>\n",
       "    <tr>\n",
       "      <th>91</th>\n",
       "      <td>1915.0</td>\n",
       "      <td>1915</td>\n",
       "    </tr>\n",
       "    <tr>\n",
       "      <th>92</th>\n",
       "      <td>NaN</td>\n",
       "      <td>1912</td>\n",
       "    </tr>\n",
       "    <tr>\n",
       "      <th>93</th>\n",
       "      <td>1920.0</td>\n",
       "      <td>1920</td>\n",
       "    </tr>\n",
       "    <tr>\n",
       "      <th>94</th>\n",
       "      <td>1959.0</td>\n",
       "      <td>1959</td>\n",
       "    </tr>\n",
       "    <tr>\n",
       "      <th>95</th>\n",
       "      <td>1917.0</td>\n",
       "      <td>1917</td>\n",
       "    </tr>\n",
       "    <tr>\n",
       "      <th>96</th>\n",
       "      <td>NaN</td>\n",
       "      <td>1915</td>\n",
       "    </tr>\n",
       "    <tr>\n",
       "      <th>97</th>\n",
       "      <td>1940.0</td>\n",
       "      <td>1940</td>\n",
       "    </tr>\n",
       "    <tr>\n",
       "      <th>98</th>\n",
       "      <td>NaN</td>\n",
       "      <td>1907</td>\n",
       "    </tr>\n",
       "    <tr>\n",
       "      <th>99</th>\n",
       "      <td>1910.0</td>\n",
       "      <td>1910</td>\n",
       "    </tr>\n",
       "  </tbody>\n",
       "</table>\n",
       "</div>"
      ],
      "text/plain": [
       "    GarageYrBlt  YearBuilt\n",
       "50       1966.0       1966\n",
       "51       1967.0       1967\n",
       "52       1964.0       1964\n",
       "53          NaN       1962\n",
       "54       1994.0       1952\n",
       "55       1949.0       1949\n",
       "56       1966.0       1966\n",
       "57       1958.0       1958\n",
       "58       2003.0       2003\n",
       "59       1959.0       1959\n",
       "60       1959.0       1959\n",
       "61       1956.0       1959\n",
       "62       1956.0       1956\n",
       "63       1952.0       1952\n",
       "64       1955.0       1955\n",
       "65       1958.0       1958\n",
       "66       1989.0       1920\n",
       "67       1950.0       1948\n",
       "68       1960.0       1960\n",
       "69       1963.0       1963\n",
       "70       1900.0       1900\n",
       "71          NaN       1920\n",
       "72       1957.0       1957\n",
       "73       1938.0       1938\n",
       "74       1948.0       1948\n",
       "75       1962.0       1920\n",
       "76       1928.0       1923\n",
       "77       1930.0       1900\n",
       "78       2003.0       1890\n",
       "79          NaN       1910\n",
       "80       1970.0       1922\n",
       "81       1950.0       1950\n",
       "82       1928.0       1922\n",
       "83       1926.0       1925\n",
       "84       1939.0       1939\n",
       "85       1973.0       1940\n",
       "86       1942.0       1942\n",
       "87       1948.0       1948\n",
       "88       1979.0       1936\n",
       "89       1930.0       1930\n",
       "90       1923.0       1923\n",
       "91       1915.0       1915\n",
       "92          NaN       1912\n",
       "93       1920.0       1920\n",
       "94       1959.0       1959\n",
       "95       1917.0       1917\n",
       "96          NaN       1915\n",
       "97       1940.0       1940\n",
       "98          NaN       1907\n",
       "99       1910.0       1910"
      ]
     },
     "execution_count": 35,
     "metadata": {},
     "output_type": "execute_result"
    }
   ],
   "source": [
    "test[['GarageYrBlt','YearBuilt']][50:100]"
   ]
  },
  {
   "cell_type": "code",
   "execution_count": 36,
   "id": "700aee47",
   "metadata": {
    "execution": {
     "iopub.execute_input": "2022-10-05T17:54:06.450528Z",
     "iopub.status.busy": "2022-10-05T17:54:06.449407Z",
     "iopub.status.idle": "2022-10-05T17:54:06.457444Z",
     "shell.execute_reply": "2022-10-05T17:54:06.456668Z"
    },
    "papermill": {
     "duration": 0.025608,
     "end_time": "2022-10-05T17:54:06.459399",
     "exception": false,
     "start_time": "2022-10-05T17:54:06.433791",
     "status": "completed"
    },
    "tags": []
   },
   "outputs": [],
   "source": [
    "train.drop('GarageYrBlt',axis=1,inplace=True)\n",
    "# repeat the same operation on test data\n",
    "test.drop('GarageYrBlt',axis=1,inplace=True)"
   ]
  },
  {
   "cell_type": "code",
   "execution_count": 37,
   "id": "9261ab78",
   "metadata": {
    "execution": {
     "iopub.execute_input": "2022-10-05T17:54:06.490537Z",
     "iopub.status.busy": "2022-10-05T17:54:06.489442Z",
     "iopub.status.idle": "2022-10-05T17:54:06.499409Z",
     "shell.execute_reply": "2022-10-05T17:54:06.498561Z"
    },
    "papermill": {
     "duration": 0.027493,
     "end_time": "2022-10-05T17:54:06.501428",
     "exception": false,
     "start_time": "2022-10-05T17:54:06.473935",
     "status": "completed"
    },
    "tags": []
   },
   "outputs": [
    {
     "data": {
      "text/plain": [
       "count     1460\n",
       "unique       5\n",
       "top         TA\n",
       "freq      1407\n",
       "Name: GarageCond, dtype: object"
      ]
     },
     "execution_count": 37,
     "metadata": {},
     "output_type": "execute_result"
    }
   ],
   "source": [
    "train['GarageCond'].describe()"
   ]
  },
  {
   "cell_type": "code",
   "execution_count": 38,
   "id": "4a12a3ab",
   "metadata": {
    "execution": {
     "iopub.execute_input": "2022-10-05T17:54:06.535373Z",
     "iopub.status.busy": "2022-10-05T17:54:06.534600Z",
     "iopub.status.idle": "2022-10-05T17:54:06.544528Z",
     "shell.execute_reply": "2022-10-05T17:54:06.543755Z"
    },
    "papermill": {
     "duration": 0.030511,
     "end_time": "2022-10-05T17:54:06.546676",
     "exception": false,
     "start_time": "2022-10-05T17:54:06.516165",
     "status": "completed"
    },
    "tags": []
   },
   "outputs": [
    {
     "data": {
      "text/plain": [
       "count     1459\n",
       "unique       5\n",
       "top         TA\n",
       "freq      1406\n",
       "Name: GarageCond, dtype: object"
      ]
     },
     "execution_count": 38,
     "metadata": {},
     "output_type": "execute_result"
    }
   ],
   "source": [
    "test['GarageCond'].describe()"
   ]
  },
  {
   "cell_type": "code",
   "execution_count": null,
   "id": "fba4d161",
   "metadata": {
    "papermill": {
     "duration": 0.017191,
     "end_time": "2022-10-05T17:54:06.581863",
     "exception": false,
     "start_time": "2022-10-05T17:54:06.564672",
     "status": "completed"
    },
    "tags": []
   },
   "outputs": [],
   "source": []
  }
 ],
 "metadata": {
  "kernelspec": {
   "display_name": "Python 3",
   "language": "python",
   "name": "python3"
  },
  "language_info": {
   "codemirror_mode": {
    "name": "ipython",
    "version": 3
   },
   "file_extension": ".py",
   "mimetype": "text/x-python",
   "name": "python",
   "nbconvert_exporter": "python",
   "pygments_lexer": "ipython3",
   "version": "3.7.12"
  },
  "papermill": {
   "default_parameters": {},
   "duration": 12.596383,
   "end_time": "2022-10-05T17:54:07.320503",
   "environment_variables": {},
   "exception": null,
   "input_path": "__notebook__.ipynb",
   "output_path": "__notebook__.ipynb",
   "parameters": {},
   "start_time": "2022-10-05T17:53:54.724120",
   "version": "2.3.4"
  }
 },
 "nbformat": 4,
 "nbformat_minor": 5
}
